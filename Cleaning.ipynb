{
 "cells": [
  {
   "cell_type": "markdown",
   "id": "80c46f63-fc45-40a6-a5b5-daf54af12ad0",
   "metadata": {
    "tags": []
   },
   "source": [
    "# Importing Libraries"
   ]
  },
  {
   "cell_type": "code",
   "execution_count": 95,
   "id": "4b6e6afb-78e9-4d53-bd82-58fcc550d7f4",
   "metadata": {},
   "outputs": [],
   "source": [
    "import helper"
   ]
  },
  {
   "cell_type": "code",
   "execution_count": 96,
   "id": "abff9e6d-ffbc-40f1-ab42-2dc72dfc7370",
   "metadata": {},
   "outputs": [],
   "source": [
    "import pandas as pd\n",
    "import numpy as np\n",
    "import matplotlib.pyplot as plt\n",
    "import seaborn as sns"
   ]
  },
  {
   "cell_type": "markdown",
   "id": "a2cf961e-e8c0-4819-bda8-8e3eabc7eca2",
   "metadata": {
    "tags": [],
    "toc-hr-collapsed": true
   },
   "source": [
    "# Import Data"
   ]
  },
  {
   "cell_type": "code",
   "execution_count": 97,
   "id": "0255d9d4-46d1-48c3-99b3-81dfab771325",
   "metadata": {},
   "outputs": [],
   "source": [
    "real_estate = pd.read_csv('./datasets/train.csv')"
   ]
  },
  {
   "cell_type": "code",
   "execution_count": 98,
   "id": "cf3372f3-581a-4be3-88bc-fd2656908372",
   "metadata": {},
   "outputs": [
    {
     "data": {
      "text/html": [
       "<div>\n",
       "<style scoped>\n",
       "    .dataframe tbody tr th:only-of-type {\n",
       "        vertical-align: middle;\n",
       "    }\n",
       "\n",
       "    .dataframe tbody tr th {\n",
       "        vertical-align: top;\n",
       "    }\n",
       "\n",
       "    .dataframe thead th {\n",
       "        text-align: right;\n",
       "    }\n",
       "</style>\n",
       "<table border=\"1\" class=\"dataframe\">\n",
       "  <thead>\n",
       "    <tr style=\"text-align: right;\">\n",
       "      <th></th>\n",
       "      <th>Id</th>\n",
       "      <th>PID</th>\n",
       "      <th>MS SubClass</th>\n",
       "      <th>MS Zoning</th>\n",
       "      <th>Lot Frontage</th>\n",
       "      <th>Lot Area</th>\n",
       "      <th>Street</th>\n",
       "      <th>Alley</th>\n",
       "      <th>Lot Shape</th>\n",
       "      <th>Land Contour</th>\n",
       "      <th>...</th>\n",
       "      <th>Screen Porch</th>\n",
       "      <th>Pool Area</th>\n",
       "      <th>Pool QC</th>\n",
       "      <th>Fence</th>\n",
       "      <th>Misc Feature</th>\n",
       "      <th>Misc Val</th>\n",
       "      <th>Mo Sold</th>\n",
       "      <th>Yr Sold</th>\n",
       "      <th>Sale Type</th>\n",
       "      <th>SalePrice</th>\n",
       "    </tr>\n",
       "  </thead>\n",
       "  <tbody>\n",
       "    <tr>\n",
       "      <th>0</th>\n",
       "      <td>109</td>\n",
       "      <td>533352170</td>\n",
       "      <td>60</td>\n",
       "      <td>RL</td>\n",
       "      <td>NaN</td>\n",
       "      <td>13517</td>\n",
       "      <td>Pave</td>\n",
       "      <td>NaN</td>\n",
       "      <td>IR1</td>\n",
       "      <td>Lvl</td>\n",
       "      <td>...</td>\n",
       "      <td>0</td>\n",
       "      <td>0</td>\n",
       "      <td>NaN</td>\n",
       "      <td>NaN</td>\n",
       "      <td>NaN</td>\n",
       "      <td>0</td>\n",
       "      <td>3</td>\n",
       "      <td>2010</td>\n",
       "      <td>WD</td>\n",
       "      <td>130500</td>\n",
       "    </tr>\n",
       "    <tr>\n",
       "      <th>1</th>\n",
       "      <td>544</td>\n",
       "      <td>531379050</td>\n",
       "      <td>60</td>\n",
       "      <td>RL</td>\n",
       "      <td>43.0</td>\n",
       "      <td>11492</td>\n",
       "      <td>Pave</td>\n",
       "      <td>NaN</td>\n",
       "      <td>IR1</td>\n",
       "      <td>Lvl</td>\n",
       "      <td>...</td>\n",
       "      <td>0</td>\n",
       "      <td>0</td>\n",
       "      <td>NaN</td>\n",
       "      <td>NaN</td>\n",
       "      <td>NaN</td>\n",
       "      <td>0</td>\n",
       "      <td>4</td>\n",
       "      <td>2009</td>\n",
       "      <td>WD</td>\n",
       "      <td>220000</td>\n",
       "    </tr>\n",
       "    <tr>\n",
       "      <th>2</th>\n",
       "      <td>153</td>\n",
       "      <td>535304180</td>\n",
       "      <td>20</td>\n",
       "      <td>RL</td>\n",
       "      <td>68.0</td>\n",
       "      <td>7922</td>\n",
       "      <td>Pave</td>\n",
       "      <td>NaN</td>\n",
       "      <td>Reg</td>\n",
       "      <td>Lvl</td>\n",
       "      <td>...</td>\n",
       "      <td>0</td>\n",
       "      <td>0</td>\n",
       "      <td>NaN</td>\n",
       "      <td>NaN</td>\n",
       "      <td>NaN</td>\n",
       "      <td>0</td>\n",
       "      <td>1</td>\n",
       "      <td>2010</td>\n",
       "      <td>WD</td>\n",
       "      <td>109000</td>\n",
       "    </tr>\n",
       "    <tr>\n",
       "      <th>3</th>\n",
       "      <td>318</td>\n",
       "      <td>916386060</td>\n",
       "      <td>60</td>\n",
       "      <td>RL</td>\n",
       "      <td>73.0</td>\n",
       "      <td>9802</td>\n",
       "      <td>Pave</td>\n",
       "      <td>NaN</td>\n",
       "      <td>Reg</td>\n",
       "      <td>Lvl</td>\n",
       "      <td>...</td>\n",
       "      <td>0</td>\n",
       "      <td>0</td>\n",
       "      <td>NaN</td>\n",
       "      <td>NaN</td>\n",
       "      <td>NaN</td>\n",
       "      <td>0</td>\n",
       "      <td>4</td>\n",
       "      <td>2010</td>\n",
       "      <td>WD</td>\n",
       "      <td>174000</td>\n",
       "    </tr>\n",
       "    <tr>\n",
       "      <th>4</th>\n",
       "      <td>255</td>\n",
       "      <td>906425045</td>\n",
       "      <td>50</td>\n",
       "      <td>RL</td>\n",
       "      <td>82.0</td>\n",
       "      <td>14235</td>\n",
       "      <td>Pave</td>\n",
       "      <td>NaN</td>\n",
       "      <td>IR1</td>\n",
       "      <td>Lvl</td>\n",
       "      <td>...</td>\n",
       "      <td>0</td>\n",
       "      <td>0</td>\n",
       "      <td>NaN</td>\n",
       "      <td>NaN</td>\n",
       "      <td>NaN</td>\n",
       "      <td>0</td>\n",
       "      <td>3</td>\n",
       "      <td>2010</td>\n",
       "      <td>WD</td>\n",
       "      <td>138500</td>\n",
       "    </tr>\n",
       "  </tbody>\n",
       "</table>\n",
       "<p>5 rows × 81 columns</p>\n",
       "</div>"
      ],
      "text/plain": [
       "    Id        PID  MS SubClass MS Zoning  Lot Frontage  Lot Area Street Alley  \\\n",
       "0  109  533352170           60        RL           NaN     13517   Pave   NaN   \n",
       "1  544  531379050           60        RL          43.0     11492   Pave   NaN   \n",
       "2  153  535304180           20        RL          68.0      7922   Pave   NaN   \n",
       "3  318  916386060           60        RL          73.0      9802   Pave   NaN   \n",
       "4  255  906425045           50        RL          82.0     14235   Pave   NaN   \n",
       "\n",
       "  Lot Shape Land Contour  ... Screen Porch Pool Area Pool QC Fence  \\\n",
       "0       IR1          Lvl  ...            0         0     NaN   NaN   \n",
       "1       IR1          Lvl  ...            0         0     NaN   NaN   \n",
       "2       Reg          Lvl  ...            0         0     NaN   NaN   \n",
       "3       Reg          Lvl  ...            0         0     NaN   NaN   \n",
       "4       IR1          Lvl  ...            0         0     NaN   NaN   \n",
       "\n",
       "  Misc Feature Misc Val Mo Sold Yr Sold  Sale Type  SalePrice  \n",
       "0          NaN        0       3    2010        WD      130500  \n",
       "1          NaN        0       4    2009        WD      220000  \n",
       "2          NaN        0       1    2010        WD      109000  \n",
       "3          NaN        0       4    2010        WD      174000  \n",
       "4          NaN        0       3    2010        WD      138500  \n",
       "\n",
       "[5 rows x 81 columns]"
      ]
     },
     "execution_count": 98,
     "metadata": {},
     "output_type": "execute_result"
    }
   ],
   "source": [
    "real_estate.head()"
   ]
  },
  {
   "cell_type": "markdown",
   "id": "b876bfad-d26b-4cd2-a89e-5483be038c8e",
   "metadata": {
    "tags": [],
    "toc-hr-collapsed": true
   },
   "source": [
    "## Column Renaming"
   ]
  },
  {
   "cell_type": "code",
   "execution_count": 99,
   "id": "417e2ab5-b430-447f-b6a6-c4d8ddda966e",
   "metadata": {},
   "outputs": [],
   "source": [
    "real_estate.columns = real_estate.columns.str.lower().str.replace(\" \",\"_\")"
   ]
  },
  {
   "cell_type": "markdown",
   "id": "c770dcad-b4ce-4521-9812-513626f4646a",
   "metadata": {
    "tags": [],
    "toc-hr-collapsed": true
   },
   "source": [
    "# Reality Check"
   ]
  },
  {
   "cell_type": "code",
   "execution_count": 100,
   "id": "34bf349a-fdc6-439e-b4c1-92ad72faee4a",
   "metadata": {},
   "outputs": [
    {
     "data": {
      "text/html": [
       "<div>\n",
       "<style scoped>\n",
       "    .dataframe tbody tr th:only-of-type {\n",
       "        vertical-align: middle;\n",
       "    }\n",
       "\n",
       "    .dataframe tbody tr th {\n",
       "        vertical-align: top;\n",
       "    }\n",
       "\n",
       "    .dataframe thead th {\n",
       "        text-align: right;\n",
       "    }\n",
       "</style>\n",
       "<table border=\"1\" class=\"dataframe\">\n",
       "  <thead>\n",
       "    <tr style=\"text-align: right;\">\n",
       "      <th></th>\n",
       "      <th>id</th>\n",
       "      <th>pid</th>\n",
       "      <th>ms_subclass</th>\n",
       "      <th>lot_frontage</th>\n",
       "      <th>lot_area</th>\n",
       "      <th>overall_qual</th>\n",
       "      <th>overall_cond</th>\n",
       "      <th>year_built</th>\n",
       "      <th>year_remod/add</th>\n",
       "      <th>mas_vnr_area</th>\n",
       "      <th>...</th>\n",
       "      <th>wood_deck_sf</th>\n",
       "      <th>open_porch_sf</th>\n",
       "      <th>enclosed_porch</th>\n",
       "      <th>3ssn_porch</th>\n",
       "      <th>screen_porch</th>\n",
       "      <th>pool_area</th>\n",
       "      <th>misc_val</th>\n",
       "      <th>mo_sold</th>\n",
       "      <th>yr_sold</th>\n",
       "      <th>saleprice</th>\n",
       "    </tr>\n",
       "  </thead>\n",
       "  <tbody>\n",
       "    <tr>\n",
       "      <th>count</th>\n",
       "      <td>2051.000000</td>\n",
       "      <td>2.051000e+03</td>\n",
       "      <td>2051.000000</td>\n",
       "      <td>1721.000000</td>\n",
       "      <td>2051.000000</td>\n",
       "      <td>2051.000000</td>\n",
       "      <td>2051.000000</td>\n",
       "      <td>2051.000000</td>\n",
       "      <td>2051.000000</td>\n",
       "      <td>2029.000000</td>\n",
       "      <td>...</td>\n",
       "      <td>2051.000000</td>\n",
       "      <td>2051.000000</td>\n",
       "      <td>2051.000000</td>\n",
       "      <td>2051.000000</td>\n",
       "      <td>2051.000000</td>\n",
       "      <td>2051.000000</td>\n",
       "      <td>2051.000000</td>\n",
       "      <td>2051.000000</td>\n",
       "      <td>2051.000000</td>\n",
       "      <td>2051.000000</td>\n",
       "    </tr>\n",
       "    <tr>\n",
       "      <th>mean</th>\n",
       "      <td>1474.033642</td>\n",
       "      <td>7.135900e+08</td>\n",
       "      <td>57.008776</td>\n",
       "      <td>69.055200</td>\n",
       "      <td>10065.208191</td>\n",
       "      <td>6.112140</td>\n",
       "      <td>5.562165</td>\n",
       "      <td>1971.708922</td>\n",
       "      <td>1984.190151</td>\n",
       "      <td>99.695909</td>\n",
       "      <td>...</td>\n",
       "      <td>93.833740</td>\n",
       "      <td>47.556802</td>\n",
       "      <td>22.571916</td>\n",
       "      <td>2.591419</td>\n",
       "      <td>16.511458</td>\n",
       "      <td>2.397855</td>\n",
       "      <td>51.574354</td>\n",
       "      <td>6.219893</td>\n",
       "      <td>2007.775719</td>\n",
       "      <td>181469.701609</td>\n",
       "    </tr>\n",
       "    <tr>\n",
       "      <th>std</th>\n",
       "      <td>843.980841</td>\n",
       "      <td>1.886918e+08</td>\n",
       "      <td>42.824223</td>\n",
       "      <td>23.260653</td>\n",
       "      <td>6742.488909</td>\n",
       "      <td>1.426271</td>\n",
       "      <td>1.104497</td>\n",
       "      <td>30.177889</td>\n",
       "      <td>21.036250</td>\n",
       "      <td>174.963129</td>\n",
       "      <td>...</td>\n",
       "      <td>128.549416</td>\n",
       "      <td>66.747241</td>\n",
       "      <td>59.845110</td>\n",
       "      <td>25.229615</td>\n",
       "      <td>57.374204</td>\n",
       "      <td>37.782570</td>\n",
       "      <td>573.393985</td>\n",
       "      <td>2.744736</td>\n",
       "      <td>1.312014</td>\n",
       "      <td>79258.659352</td>\n",
       "    </tr>\n",
       "    <tr>\n",
       "      <th>min</th>\n",
       "      <td>1.000000</td>\n",
       "      <td>5.263011e+08</td>\n",
       "      <td>20.000000</td>\n",
       "      <td>21.000000</td>\n",
       "      <td>1300.000000</td>\n",
       "      <td>1.000000</td>\n",
       "      <td>1.000000</td>\n",
       "      <td>1872.000000</td>\n",
       "      <td>1950.000000</td>\n",
       "      <td>0.000000</td>\n",
       "      <td>...</td>\n",
       "      <td>0.000000</td>\n",
       "      <td>0.000000</td>\n",
       "      <td>0.000000</td>\n",
       "      <td>0.000000</td>\n",
       "      <td>0.000000</td>\n",
       "      <td>0.000000</td>\n",
       "      <td>0.000000</td>\n",
       "      <td>1.000000</td>\n",
       "      <td>2006.000000</td>\n",
       "      <td>12789.000000</td>\n",
       "    </tr>\n",
       "    <tr>\n",
       "      <th>25%</th>\n",
       "      <td>753.500000</td>\n",
       "      <td>5.284581e+08</td>\n",
       "      <td>20.000000</td>\n",
       "      <td>58.000000</td>\n",
       "      <td>7500.000000</td>\n",
       "      <td>5.000000</td>\n",
       "      <td>5.000000</td>\n",
       "      <td>1953.500000</td>\n",
       "      <td>1964.500000</td>\n",
       "      <td>0.000000</td>\n",
       "      <td>...</td>\n",
       "      <td>0.000000</td>\n",
       "      <td>0.000000</td>\n",
       "      <td>0.000000</td>\n",
       "      <td>0.000000</td>\n",
       "      <td>0.000000</td>\n",
       "      <td>0.000000</td>\n",
       "      <td>0.000000</td>\n",
       "      <td>4.000000</td>\n",
       "      <td>2007.000000</td>\n",
       "      <td>129825.000000</td>\n",
       "    </tr>\n",
       "    <tr>\n",
       "      <th>50%</th>\n",
       "      <td>1486.000000</td>\n",
       "      <td>5.354532e+08</td>\n",
       "      <td>50.000000</td>\n",
       "      <td>68.000000</td>\n",
       "      <td>9430.000000</td>\n",
       "      <td>6.000000</td>\n",
       "      <td>5.000000</td>\n",
       "      <td>1974.000000</td>\n",
       "      <td>1993.000000</td>\n",
       "      <td>0.000000</td>\n",
       "      <td>...</td>\n",
       "      <td>0.000000</td>\n",
       "      <td>27.000000</td>\n",
       "      <td>0.000000</td>\n",
       "      <td>0.000000</td>\n",
       "      <td>0.000000</td>\n",
       "      <td>0.000000</td>\n",
       "      <td>0.000000</td>\n",
       "      <td>6.000000</td>\n",
       "      <td>2008.000000</td>\n",
       "      <td>162500.000000</td>\n",
       "    </tr>\n",
       "    <tr>\n",
       "      <th>75%</th>\n",
       "      <td>2198.000000</td>\n",
       "      <td>9.071801e+08</td>\n",
       "      <td>70.000000</td>\n",
       "      <td>80.000000</td>\n",
       "      <td>11513.500000</td>\n",
       "      <td>7.000000</td>\n",
       "      <td>6.000000</td>\n",
       "      <td>2001.000000</td>\n",
       "      <td>2004.000000</td>\n",
       "      <td>161.000000</td>\n",
       "      <td>...</td>\n",
       "      <td>168.000000</td>\n",
       "      <td>70.000000</td>\n",
       "      <td>0.000000</td>\n",
       "      <td>0.000000</td>\n",
       "      <td>0.000000</td>\n",
       "      <td>0.000000</td>\n",
       "      <td>0.000000</td>\n",
       "      <td>8.000000</td>\n",
       "      <td>2009.000000</td>\n",
       "      <td>214000.000000</td>\n",
       "    </tr>\n",
       "    <tr>\n",
       "      <th>max</th>\n",
       "      <td>2930.000000</td>\n",
       "      <td>9.241520e+08</td>\n",
       "      <td>190.000000</td>\n",
       "      <td>313.000000</td>\n",
       "      <td>159000.000000</td>\n",
       "      <td>10.000000</td>\n",
       "      <td>9.000000</td>\n",
       "      <td>2010.000000</td>\n",
       "      <td>2010.000000</td>\n",
       "      <td>1600.000000</td>\n",
       "      <td>...</td>\n",
       "      <td>1424.000000</td>\n",
       "      <td>547.000000</td>\n",
       "      <td>432.000000</td>\n",
       "      <td>508.000000</td>\n",
       "      <td>490.000000</td>\n",
       "      <td>800.000000</td>\n",
       "      <td>17000.000000</td>\n",
       "      <td>12.000000</td>\n",
       "      <td>2010.000000</td>\n",
       "      <td>611657.000000</td>\n",
       "    </tr>\n",
       "  </tbody>\n",
       "</table>\n",
       "<p>8 rows × 39 columns</p>\n",
       "</div>"
      ],
      "text/plain": [
       "                id           pid  ms_subclass  lot_frontage       lot_area  \\\n",
       "count  2051.000000  2.051000e+03  2051.000000   1721.000000    2051.000000   \n",
       "mean   1474.033642  7.135900e+08    57.008776     69.055200   10065.208191   \n",
       "std     843.980841  1.886918e+08    42.824223     23.260653    6742.488909   \n",
       "min       1.000000  5.263011e+08    20.000000     21.000000    1300.000000   \n",
       "25%     753.500000  5.284581e+08    20.000000     58.000000    7500.000000   \n",
       "50%    1486.000000  5.354532e+08    50.000000     68.000000    9430.000000   \n",
       "75%    2198.000000  9.071801e+08    70.000000     80.000000   11513.500000   \n",
       "max    2930.000000  9.241520e+08   190.000000    313.000000  159000.000000   \n",
       "\n",
       "       overall_qual  overall_cond   year_built  year_remod/add  mas_vnr_area  \\\n",
       "count   2051.000000   2051.000000  2051.000000     2051.000000   2029.000000   \n",
       "mean       6.112140      5.562165  1971.708922     1984.190151     99.695909   \n",
       "std        1.426271      1.104497    30.177889       21.036250    174.963129   \n",
       "min        1.000000      1.000000  1872.000000     1950.000000      0.000000   \n",
       "25%        5.000000      5.000000  1953.500000     1964.500000      0.000000   \n",
       "50%        6.000000      5.000000  1974.000000     1993.000000      0.000000   \n",
       "75%        7.000000      6.000000  2001.000000     2004.000000    161.000000   \n",
       "max       10.000000      9.000000  2010.000000     2010.000000   1600.000000   \n",
       "\n",
       "       ...  wood_deck_sf  open_porch_sf  enclosed_porch   3ssn_porch  \\\n",
       "count  ...   2051.000000    2051.000000     2051.000000  2051.000000   \n",
       "mean   ...     93.833740      47.556802       22.571916     2.591419   \n",
       "std    ...    128.549416      66.747241       59.845110    25.229615   \n",
       "min    ...      0.000000       0.000000        0.000000     0.000000   \n",
       "25%    ...      0.000000       0.000000        0.000000     0.000000   \n",
       "50%    ...      0.000000      27.000000        0.000000     0.000000   \n",
       "75%    ...    168.000000      70.000000        0.000000     0.000000   \n",
       "max    ...   1424.000000     547.000000      432.000000   508.000000   \n",
       "\n",
       "       screen_porch    pool_area      misc_val      mo_sold      yr_sold  \\\n",
       "count   2051.000000  2051.000000   2051.000000  2051.000000  2051.000000   \n",
       "mean      16.511458     2.397855     51.574354     6.219893  2007.775719   \n",
       "std       57.374204    37.782570    573.393985     2.744736     1.312014   \n",
       "min        0.000000     0.000000      0.000000     1.000000  2006.000000   \n",
       "25%        0.000000     0.000000      0.000000     4.000000  2007.000000   \n",
       "50%        0.000000     0.000000      0.000000     6.000000  2008.000000   \n",
       "75%        0.000000     0.000000      0.000000     8.000000  2009.000000   \n",
       "max      490.000000   800.000000  17000.000000    12.000000  2010.000000   \n",
       "\n",
       "           saleprice  \n",
       "count    2051.000000  \n",
       "mean   181469.701609  \n",
       "std     79258.659352  \n",
       "min     12789.000000  \n",
       "25%    129825.000000  \n",
       "50%    162500.000000  \n",
       "75%    214000.000000  \n",
       "max    611657.000000  \n",
       "\n",
       "[8 rows x 39 columns]"
      ]
     },
     "execution_count": 100,
     "metadata": {},
     "output_type": "execute_result"
    }
   ],
   "source": [
    "real_estate.describe()"
   ]
  },
  {
   "cell_type": "markdown",
   "id": "a92d421c-94b2-438a-98f0-b5c4ca0dabb4",
   "metadata": {},
   "source": [
    "Nothing seems to be incredibly out of line"
   ]
  },
  {
   "cell_type": "markdown",
   "id": "218681c4-3c48-407b-a547-312a596c55f0",
   "metadata": {
    "tags": []
   },
   "source": [
    "# Helper Functions"
   ]
  },
  {
   "cell_type": "code",
   "execution_count": 101,
   "id": "441baeef-4763-4eae-b4e9-4ebfc9fac996",
   "metadata": {},
   "outputs": [],
   "source": [
    "def dummy_export_drop(df, column, path):\n",
    "    \n",
    "    \"\"\"\n",
    "    Exports a dummies of df[column]\n",
    "    \n",
    "    Path should be setup pointing towards the directory that the csv exported to.\n",
    "    Filename will by default be column_dummies.csv\n",
    "    \n",
    "    Column will then be dropped from df\n",
    "    \"\"\"\n",
    "    \n",
    "    temp_dummies = pd.get_dummies(df[column], prefix=column)\n",
    "    temp_dummies.to_csv(path + f'{column}_dummies.csv',index=False)\n",
    "    \n",
    "    df.drop(columns=[column], inplace=True)\n",
    "    \n",
    "    return"
   ]
  },
  {
   "cell_type": "code",
   "execution_count": 102,
   "id": "0c2c7f89-cf07-40aa-8854-cb0f1900278e",
   "metadata": {},
   "outputs": [],
   "source": [
    "filepath = './datasets/dummies/'"
   ]
  },
  {
   "cell_type": "code",
   "execution_count": 103,
   "id": "630934a7-95e8-4562-99bf-3877f152cc41",
   "metadata": {},
   "outputs": [],
   "source": [
    "def simple_interaction_feature(df, list_of_old_features):\n",
    "    new_feature_val = 1\n",
    "    for feature in list_of_old_features:\n",
    "        new_feature_val = new_feature_val * df[feature].astype(int)\n",
    "    return new_feature_val"
   ]
  },
  {
   "cell_type": "markdown",
   "id": "b009f56e-3537-46c8-89ff-102ec749e5ae",
   "metadata": {
    "tags": [],
    "toc-hr-collapsed": true
   },
   "source": [
    "# Creating Dummies"
   ]
  },
  {
   "cell_type": "code",
   "execution_count": 104,
   "id": "836be8d5-75e1-4d1d-9009-954a89ba701f",
   "metadata": {},
   "outputs": [
    {
     "data": {
      "text/plain": [
       "Index(['id', 'pid', 'ms_subclass', 'ms_zoning', 'lot_frontage', 'lot_area',\n",
       "       'street', 'alley', 'lot_shape', 'land_contour', 'utilities',\n",
       "       'lot_config', 'land_slope', 'neighborhood', 'condition_1',\n",
       "       'condition_2', 'bldg_type', 'house_style', 'overall_qual',\n",
       "       'overall_cond', 'year_built', 'year_remod/add', 'roof_style',\n",
       "       'roof_matl', 'exterior_1st', 'exterior_2nd', 'mas_vnr_type',\n",
       "       'mas_vnr_area', 'exter_qual', 'exter_cond', 'foundation', 'bsmt_qual',\n",
       "       'bsmt_cond', 'bsmt_exposure', 'bsmtfin_type_1', 'bsmtfin_sf_1',\n",
       "       'bsmtfin_type_2', 'bsmtfin_sf_2', 'bsmt_unf_sf', 'total_bsmt_sf',\n",
       "       'heating', 'heating_qc', 'central_air', 'electrical', '1st_flr_sf',\n",
       "       '2nd_flr_sf', 'low_qual_fin_sf', 'gr_liv_area', 'bsmt_full_bath',\n",
       "       'bsmt_half_bath', 'full_bath', 'half_bath', 'bedroom_abvgr',\n",
       "       'kitchen_abvgr', 'kitchen_qual', 'totrms_abvgrd', 'functional',\n",
       "       'fireplaces', 'fireplace_qu', 'garage_type', 'garage_yr_blt',\n",
       "       'garage_finish', 'garage_cars', 'garage_area', 'garage_qual',\n",
       "       'garage_cond', 'paved_drive', 'wood_deck_sf', 'open_porch_sf',\n",
       "       'enclosed_porch', '3ssn_porch', 'screen_porch', 'pool_area', 'pool_qc',\n",
       "       'fence', 'misc_feature', 'misc_val', 'mo_sold', 'yr_sold', 'sale_type',\n",
       "       'saleprice'],\n",
       "      dtype='object')"
      ]
     },
     "execution_count": 104,
     "metadata": {},
     "output_type": "execute_result"
    }
   ],
   "source": [
    "real_estate.columns"
   ]
  },
  {
   "cell_type": "code",
   "execution_count": 105,
   "id": "b2a83039-4226-4244-a25e-b8fa24ab494f",
   "metadata": {},
   "outputs": [
    {
     "data": {
      "text/plain": [
       "0        Sawyer\n",
       "1       SawyerW\n",
       "2         NAmes\n",
       "3        Timber\n",
       "4       SawyerW\n",
       "         ...   \n",
       "2046     Timber\n",
       "2047    Edwards\n",
       "2048    Crawfor\n",
       "2049      NAmes\n",
       "2050    Gilbert\n",
       "Name: neighborhood, Length: 2051, dtype: object"
      ]
     },
     "execution_count": 105,
     "metadata": {},
     "output_type": "execute_result"
    }
   ],
   "source": [
    "real_estate['neighborhood']"
   ]
  },
  {
   "cell_type": "code",
   "execution_count": 106,
   "id": "528ae968-790e-4a0e-99e1-98fc46532d29",
   "metadata": {},
   "outputs": [],
   "source": [
    "dummy_export_drop(real_estate,'neighborhood',filepath)"
   ]
  },
  {
   "cell_type": "markdown",
   "id": "0abe9e94-3fe2-4181-a0f0-a060ab9e07bf",
   "metadata": {
    "tags": [],
    "toc-hr-collapsed": true
   },
   "source": [
    "# Cleaning Null Values"
   ]
  },
  {
   "cell_type": "markdown",
   "id": "a7ca96f2-6e01-4238-b76e-319be25d2ed7",
   "metadata": {
    "tags": [],
    "toc-hr-collapsed": true
   },
   "source": [
    "## Mass Converting Ordinals"
   ]
  },
  {
   "cell_type": "code",
   "execution_count": 107,
   "id": "48b466a4-1284-48f6-8d83-98a2e0291b74",
   "metadata": {},
   "outputs": [],
   "source": [
    "ordinals = ['exter_qual','exter_cond','bsmt_qual','bsmt_cond','heating_qc',\n",
    "            'kitchen_qual','fireplace_qu','garage_qual','garage_cond','pool_qc']"
   ]
  },
  {
   "cell_type": "code",
   "execution_count": 108,
   "id": "2b8818f8-2a49-4dd3-9f84-56e33b32fc61",
   "metadata": {
    "tags": []
   },
   "outputs": [],
   "source": [
    "helper.mass_ordinal_to_numerical(real_estate, ordinals)"
   ]
  },
  {
   "cell_type": "markdown",
   "id": "ea9dd653-0fc2-4319-89c5-0757fa767478",
   "metadata": {
    "tags": [],
    "toc-hr-collapsed": true
   },
   "source": [
    "## Misc Feature"
   ]
  },
  {
   "cell_type": "code",
   "execution_count": 109,
   "id": "c0777f84-8086-4d84-8d38-0c7b0d65a762",
   "metadata": {},
   "outputs": [],
   "source": [
    "dummy_export_drop(real_estate, 'misc_feature', filepath)"
   ]
  },
  {
   "cell_type": "markdown",
   "id": "8500c9cd-5d77-4b5c-9c33-0953c5f3577d",
   "metadata": {
    "tags": [],
    "toc-hr-collapsed": true
   },
   "source": [
    "## Lot_Frontage"
   ]
  },
  {
   "cell_type": "code",
   "execution_count": 110,
   "id": "1c7785b6-2430-42f7-bf65-a641d80faf68",
   "metadata": {
    "tags": []
   },
   "outputs": [],
   "source": [
    "real_estate['lot_frontage'].fillna(0, inplace=True)"
   ]
  },
  {
   "cell_type": "markdown",
   "id": "08f1d37d-740b-4ab5-8f72-28db4b4ec4cd",
   "metadata": {
    "tags": [],
    "toc-hr-collapsed": true
   },
   "source": [
    "## Garage Finish"
   ]
  },
  {
   "cell_type": "code",
   "execution_count": 111,
   "id": "f646dbdf-5bde-4b86-9c13-68d25c6a3e70",
   "metadata": {},
   "outputs": [],
   "source": [
    "real_estate['garage_finish'].replace({\n",
    "    'Fin':3,\n",
    "    'RFn':2,\n",
    "    'Unf':1\n",
    "},inplace=True)"
   ]
  },
  {
   "cell_type": "code",
   "execution_count": 112,
   "id": "d52810ce-43b8-473f-ae36-0a9bcc8db95a",
   "metadata": {},
   "outputs": [],
   "source": [
    "real_estate['garage_finish'].fillna(0,inplace=True)"
   ]
  },
  {
   "cell_type": "markdown",
   "id": "65e78328-4e54-49d8-9756-adb2899f2b09",
   "metadata": {
    "tags": [],
    "toc-hr-collapsed": true
   },
   "source": [
    "## Alley"
   ]
  },
  {
   "cell_type": "code",
   "execution_count": 113,
   "id": "f449d639-4939-4aed-b531-bf0cf2e4ccc7",
   "metadata": {},
   "outputs": [
    {
     "data": {
      "text/plain": [
       "Grvl    85\n",
       "Pave    55\n",
       "Name: alley, dtype: int64"
      ]
     },
     "execution_count": 113,
     "metadata": {},
     "output_type": "execute_result"
    }
   ],
   "source": [
    "real_estate['alley'].value_counts()"
   ]
  },
  {
   "cell_type": "code",
   "execution_count": 114,
   "id": "5ec4f987-136b-4f6a-bc81-ccff1a924f93",
   "metadata": {},
   "outputs": [],
   "source": [
    "dummy_export_drop(real_estate, 'alley', filepath)"
   ]
  },
  {
   "cell_type": "code",
   "execution_count": 115,
   "id": "0a32dd66-697a-4a18-9770-a395cb6e0981",
   "metadata": {},
   "outputs": [
    {
     "data": {
      "text/plain": [
       "MnPrv    227\n",
       "GdPrv     83\n",
       "GdWo      80\n",
       "MnWw      10\n",
       "Name: fence, dtype: int64"
      ]
     },
     "execution_count": 115,
     "metadata": {},
     "output_type": "execute_result"
    }
   ],
   "source": [
    "real_estate['fence'].value_counts()"
   ]
  },
  {
   "cell_type": "code",
   "execution_count": 116,
   "id": "696d352f-9cc7-4a71-9244-99475523622b",
   "metadata": {},
   "outputs": [],
   "source": [
    "real_estate['fence'].replace({\n",
    "    'GdPrv':4,\n",
    "    'MnPrv':3,\n",
    "    'GdWo':2,\n",
    "    'MnWw':1\n",
    "},inplace=True)"
   ]
  },
  {
   "cell_type": "code",
   "execution_count": 117,
   "id": "91f1e952-2e44-4a76-8820-1732fa4ad168",
   "metadata": {},
   "outputs": [],
   "source": [
    "real_estate['fence'].fillna(0,inplace=True)"
   ]
  },
  {
   "cell_type": "markdown",
   "id": "cba144f4-b4c6-4187-83c5-f06e46d813d9",
   "metadata": {
    "tags": [],
    "toc-hr-collapsed": true
   },
   "source": [
    "## Garage Year Built"
   ]
  },
  {
   "cell_type": "code",
   "execution_count": 118,
   "id": "625d68cd-2572-4917-86c3-5ec38f99cfc4",
   "metadata": {},
   "outputs": [],
   "source": [
    "real_estate['garage_yr_blt'].fillna(-1,inplace=True)"
   ]
  },
  {
   "cell_type": "code",
   "execution_count": 119,
   "id": "4b0fb7fc-662e-4466-8250-46ea19793f36",
   "metadata": {},
   "outputs": [],
   "source": [
    "real_estate['garage_yr_blt'].replace({\n",
    "    2207:2007\n",
    "},inplace=True)"
   ]
  },
  {
   "cell_type": "markdown",
   "id": "c3f98759-dc24-4da1-ba9b-1b34e7e77835",
   "metadata": {
    "tags": [],
    "toc-hr-collapsed": true
   },
   "source": [
    "## Garage Type"
   ]
  },
  {
   "cell_type": "code",
   "execution_count": 120,
   "id": "cb5449a9-4328-4d69-9024-11e76eff3ae9",
   "metadata": {},
   "outputs": [],
   "source": [
    "dummy_export_drop(real_estate,'garage_type',filepath)"
   ]
  },
  {
   "cell_type": "markdown",
   "id": "fdc4dba0-31dd-47cd-be72-36855d69578f",
   "metadata": {
    "tags": [],
    "toc-hr-collapsed": true
   },
   "source": [
    "## Basement Exposure"
   ]
  },
  {
   "cell_type": "code",
   "execution_count": 121,
   "id": "b5c30bf0-b233-4b43-8449-99a35930bb2c",
   "metadata": {},
   "outputs": [],
   "source": [
    "real_estate['bsmt_exposure'].replace({\n",
    "    'Gd':4,\n",
    "    'Av':3,\n",
    "    'Mn':2,\n",
    "    'No':1\n",
    "},inplace=True)"
   ]
  },
  {
   "cell_type": "code",
   "execution_count": 122,
   "id": "16cfd4bf-772c-415e-905a-390705ebc328",
   "metadata": {},
   "outputs": [],
   "source": [
    "real_estate['bsmt_exposure'].fillna(0,inplace=True)"
   ]
  },
  {
   "cell_type": "markdown",
   "id": "03527138-6e05-4b16-ba1b-4dd83a90f759",
   "metadata": {
    "tags": [],
    "toc-hr-collapsed": true
   },
   "source": [
    "## Basement Fin Type 1 & 2"
   ]
  },
  {
   "cell_type": "code",
   "execution_count": 123,
   "id": "dca44e05-2caf-4827-817f-97f5d398ad1e",
   "metadata": {},
   "outputs": [],
   "source": [
    "real_estate['bsmtfin_type_2'].replace({\n",
    "    'GLQ':6,\n",
    "    'ALQ':5,\n",
    "    'BLQ':4,\n",
    "    'Rec':3,\n",
    "    'LwQ':2,\n",
    "    'Unf':1\n",
    "},inplace=True)"
   ]
  },
  {
   "cell_type": "code",
   "execution_count": 124,
   "id": "a9c72ab7-c250-4add-9594-2c26581e74e8",
   "metadata": {},
   "outputs": [],
   "source": [
    "real_estate['bsmtfin_type_2'].fillna(0,inplace=True)"
   ]
  },
  {
   "cell_type": "code",
   "execution_count": 125,
   "id": "82f60690-a023-46f3-9cec-e4485fc1c978",
   "metadata": {},
   "outputs": [],
   "source": [
    "real_estate['bsmtfin_type_1'].replace({\n",
    "    'GLQ':6,\n",
    "    'ALQ':5,\n",
    "    'BLQ':4,\n",
    "    'Rec':3,\n",
    "    'LwQ':2,\n",
    "    'Unf':1\n",
    "},inplace=True)"
   ]
  },
  {
   "cell_type": "code",
   "execution_count": 126,
   "id": "ab862703-0559-473d-a8b1-93499110d707",
   "metadata": {},
   "outputs": [],
   "source": [
    "real_estate['bsmtfin_type_1'].fillna(0,inplace=True)"
   ]
  },
  {
   "cell_type": "markdown",
   "id": "b4935424-c595-4fff-af47-c97a7a1cef22",
   "metadata": {
    "tags": [],
    "toc-hr-collapsed": true
   },
   "source": [
    "## Masonry Veneer Type"
   ]
  },
  {
   "cell_type": "code",
   "execution_count": 127,
   "id": "86a36997-4e03-4516-b1d9-715e0f2b308c",
   "metadata": {},
   "outputs": [],
   "source": [
    "dummy_export_drop(real_estate, 'mas_vnr_type',filepath)"
   ]
  },
  {
   "cell_type": "markdown",
   "id": "56fb1b25-f58b-480a-b3bd-0e3ba5d45492",
   "metadata": {
    "tags": [],
    "toc-hr-collapsed": true
   },
   "source": [
    "## Masonry Veneer Area"
   ]
  },
  {
   "cell_type": "code",
   "execution_count": 128,
   "id": "9c3b31a3-4d6d-4bba-9294-6bce86ffcc85",
   "metadata": {},
   "outputs": [],
   "source": [
    "real_estate['mas_vnr_area'].fillna(0,inplace=True)"
   ]
  },
  {
   "cell_type": "markdown",
   "id": "4670bc35-6ad8-482c-a3e6-ab2874cb0b01",
   "metadata": {
    "tags": [],
    "toc-hr-collapsed": true
   },
   "source": [
    "## Basement Half and Full Bath"
   ]
  },
  {
   "cell_type": "code",
   "execution_count": 129,
   "id": "c0aa9640-5aa5-4944-ad59-9ad90bee627e",
   "metadata": {},
   "outputs": [],
   "source": [
    "real_estate['bsmt_half_bath'].fillna(0,inplace=True)"
   ]
  },
  {
   "cell_type": "code",
   "execution_count": 130,
   "id": "3336baa6-0522-4434-93b3-1dac78380aa4",
   "metadata": {},
   "outputs": [],
   "source": [
    "real_estate['bsmt_full_bath'].fillna(0,inplace=True)"
   ]
  },
  {
   "cell_type": "markdown",
   "id": "4ba86358-ed68-40ee-80fb-af18578fa97f",
   "metadata": {
    "tags": [],
    "toc-hr-collapsed": true
   },
   "source": [
    "## Total Basement Square Feet"
   ]
  },
  {
   "cell_type": "code",
   "execution_count": 131,
   "id": "248ea333-a0c1-4b7f-a5b7-74434ceb40d1",
   "metadata": {},
   "outputs": [],
   "source": [
    "real_estate['total_bsmt_sf'].fillna(0, inplace=True)"
   ]
  },
  {
   "cell_type": "markdown",
   "id": "93ca78ed-8e32-46c0-98a6-09ecd2872e64",
   "metadata": {
    "tags": [],
    "toc-hr-collapsed": true
   },
   "source": [
    "## Garage Cars and Area"
   ]
  },
  {
   "cell_type": "code",
   "execution_count": 132,
   "id": "0eda4f38-c13c-41ad-b6d4-aeefc8fe8be1",
   "metadata": {},
   "outputs": [],
   "source": [
    "real_estate['garage_cars'].fillna(0, inplace=True)"
   ]
  },
  {
   "cell_type": "code",
   "execution_count": 133,
   "id": "ba48ffb7-a326-45a2-92e7-2774af9a33a8",
   "metadata": {},
   "outputs": [],
   "source": [
    "real_estate['garage_area'].fillna(0, inplace=True)"
   ]
  },
  {
   "cell_type": "markdown",
   "id": "a19ea445-9898-4017-8cd9-eec679c0b87c",
   "metadata": {
    "tags": [],
    "toc-hr-collapsed": true
   },
   "source": [
    "## Basement Square Feet"
   ]
  },
  {
   "cell_type": "code",
   "execution_count": 134,
   "id": "58371782-df91-4c55-a437-54f3c3e8b1e1",
   "metadata": {},
   "outputs": [],
   "source": [
    "real_estate['bsmt_unf_sf'].fillna(0, inplace=True)"
   ]
  },
  {
   "cell_type": "code",
   "execution_count": 135,
   "id": "fc8b8a4a-f1fb-49de-af16-0c2768d004db",
   "metadata": {},
   "outputs": [],
   "source": [
    "real_estate['bsmtfin_sf_1'].fillna(0, inplace=True)"
   ]
  },
  {
   "cell_type": "code",
   "execution_count": 136,
   "id": "218e5fb0-3b00-4e37-8bba-123e0e447d44",
   "metadata": {},
   "outputs": [],
   "source": [
    "real_estate['bsmtfin_sf_2'].fillna(0, inplace=True)"
   ]
  },
  {
   "cell_type": "markdown",
   "id": "f937bf10-4ecc-407c-a7ed-c92ac733dad7",
   "metadata": {
    "tags": [],
    "toc-hr-collapsed": true
   },
   "source": [
    "# Analyzing features"
   ]
  },
  {
   "cell_type": "code",
   "execution_count": 137,
   "id": "5d772af1-e9bf-4dce-9d89-af9449e5d258",
   "metadata": {},
   "outputs": [
    {
     "data": {
      "text/plain": [
       "Index(['id', 'pid', 'ms_subclass', 'ms_zoning', 'lot_frontage', 'lot_area',\n",
       "       'street', 'lot_shape', 'land_contour', 'utilities', 'lot_config',\n",
       "       'land_slope', 'condition_1', 'condition_2', 'bldg_type', 'house_style',\n",
       "       'overall_qual', 'overall_cond', 'year_built', 'year_remod/add',\n",
       "       'roof_style', 'roof_matl', 'exterior_1st', 'exterior_2nd',\n",
       "       'mas_vnr_area', 'exter_qual', 'exter_cond', 'foundation', 'bsmt_qual',\n",
       "       'bsmt_cond', 'bsmt_exposure', 'bsmtfin_type_1', 'bsmtfin_sf_1',\n",
       "       'bsmtfin_type_2', 'bsmtfin_sf_2', 'bsmt_unf_sf', 'total_bsmt_sf',\n",
       "       'heating', 'heating_qc', 'central_air', 'electrical', '1st_flr_sf',\n",
       "       '2nd_flr_sf', 'low_qual_fin_sf', 'gr_liv_area', 'bsmt_full_bath',\n",
       "       'bsmt_half_bath', 'full_bath', 'half_bath', 'bedroom_abvgr',\n",
       "       'kitchen_abvgr', 'kitchen_qual', 'totrms_abvgrd', 'functional',\n",
       "       'fireplaces', 'fireplace_qu', 'garage_yr_blt', 'garage_finish',\n",
       "       'garage_cars', 'garage_area', 'garage_qual', 'garage_cond',\n",
       "       'paved_drive', 'wood_deck_sf', 'open_porch_sf', 'enclosed_porch',\n",
       "       '3ssn_porch', 'screen_porch', 'pool_area', 'pool_qc', 'fence',\n",
       "       'misc_val', 'mo_sold', 'yr_sold', 'sale_type', 'saleprice'],\n",
       "      dtype='object')"
      ]
     },
     "execution_count": 137,
     "metadata": {},
     "output_type": "execute_result"
    }
   ],
   "source": [
    "real_estate.columns"
   ]
  },
  {
   "cell_type": "code",
   "execution_count": null,
   "id": "0c287ff3-b41c-4e1d-a90f-ba1bcb27951d",
   "metadata": {},
   "outputs": [],
   "source": []
  },
  {
   "cell_type": "markdown",
   "id": "a3ec5425-a093-4279-ae83-2a371f35353c",
   "metadata": {},
   "source": [
    "# Engineering Features"
   ]
  },
  {
   "cell_type": "markdown",
   "id": "cdc6fa00-f01f-4f15-9bc6-d6b42bbc5e46",
   "metadata": {
    "tags": []
   },
   "source": [
    "## Pool"
   ]
  },
  {
   "cell_type": "code",
   "execution_count": 138,
   "id": "e391d0dd-eb5d-47de-a314-65168811f97f",
   "metadata": {},
   "outputs": [],
   "source": [
    "real_estate['pool_score'] = simple_interaction_feature(real_estate, ['pool_area','pool_qc'])"
   ]
  },
  {
   "cell_type": "code",
   "execution_count": 139,
   "id": "e5d15952-6171-48ac-bad0-80410b60616a",
   "metadata": {},
   "outputs": [
    {
     "data": {
      "text/plain": [
       "0       2042\n",
       "1038       1\n",
       "1104       1\n",
       "1140       1\n",
       "1296       1\n",
       "1920       1\n",
       "2304       1\n",
       "2952       1\n",
       "3200       1\n",
       "1683       1\n",
       "Name: pool_score, dtype: int64"
      ]
     },
     "execution_count": 139,
     "metadata": {},
     "output_type": "execute_result"
    }
   ],
   "source": [
    "real_estate['pool_score'].value_counts()"
   ]
  },
  {
   "cell_type": "markdown",
   "id": "ef941ae3-8b74-49dc-b37d-695690caa301",
   "metadata": {
    "tags": []
   },
   "source": [
    "## Garage"
   ]
  },
  {
   "cell_type": "code",
   "execution_count": 140,
   "id": "b9711586-aa97-4ff5-8ac3-a4224686564f",
   "metadata": {},
   "outputs": [],
   "source": [
    "real_estate['garage_score'] = simple_interaction_feature(real_estate, ['garage_area','garage_qual','garage_cars','garage_cond'])"
   ]
  },
  {
   "cell_type": "code",
   "execution_count": 141,
   "id": "71faf920-6a9b-406f-83eb-f3568d89054a",
   "metadata": {},
   "outputs": [
    {
     "data": {
      "text/plain": [
       "0        114\n",
       "7920      68\n",
       "10368     68\n",
       "8712      51\n",
       "9504      43\n",
       "        ... \n",
       "17388      1\n",
       "13302      1\n",
       "22842      1\n",
       "5130       1\n",
       "12276      1\n",
       "Name: garage_score, Length: 641, dtype: int64"
      ]
     },
     "execution_count": 141,
     "metadata": {},
     "output_type": "execute_result"
    }
   ],
   "source": [
    "real_estate['garage_score'].value_counts()"
   ]
  },
  {
   "cell_type": "markdown",
   "id": "5005f0f5-aa0d-4366-a5bd-b4b6a6185c55",
   "metadata": {
    "tags": []
   },
   "source": [
    "## Fireplace"
   ]
  },
  {
   "cell_type": "code",
   "execution_count": 142,
   "id": "81d37cda-b6b4-4331-a23b-ea2717a985fd",
   "metadata": {},
   "outputs": [],
   "source": [
    "real_estate['fireplace_score'] = simple_interaction_feature(real_estate, ['fireplaces','fireplace_qu'])"
   ]
  },
  {
   "cell_type": "code",
   "execution_count": 143,
   "id": "01075b44-d4be-41cb-bc30-d44bb29458cb",
   "metadata": {},
   "outputs": [
    {
     "data": {
      "text/plain": [
       "0     1000\n",
       "4      456\n",
       "3      342\n",
       "8       74\n",
       "6       62\n",
       "2       49\n",
       "1       31\n",
       "5       29\n",
       "12       3\n",
       "9        3\n",
       "10       2\n",
       "Name: fireplace_score, dtype: int64"
      ]
     },
     "execution_count": 143,
     "metadata": {},
     "output_type": "execute_result"
    }
   ],
   "source": [
    "real_estate['fireplace_score'].value_counts()"
   ]
  },
  {
   "cell_type": "markdown",
   "id": "0df19aa1-0e5d-42ce-817a-f93b0a43c723",
   "metadata": {
    "tags": []
   },
   "source": [
    "## Basement"
   ]
  },
  {
   "cell_type": "code",
   "execution_count": 144,
   "id": "55c4ae99-9cd8-48e6-85de-b27d4f947ddd",
   "metadata": {},
   "outputs": [],
   "source": [
    "real_estate['basement_score'] = simple_interaction_feature(real_estate, ['total_bsmt_sf','bsmt_qual','bsmt_cond'])"
   ]
  },
  {
   "cell_type": "code",
   "execution_count": 145,
   "id": "8d5f4ffe-fee6-4f67-9d02-4fe14a64da5b",
   "metadata": {},
   "outputs": [
    {
     "data": {
      "text/plain": [
       "0        55\n",
       "7776     44\n",
       "9072     20\n",
       "8208     17\n",
       "7344     16\n",
       "         ..\n",
       "12600     1\n",
       "16488     1\n",
       "4500      1\n",
       "16692     1\n",
       "14568     1\n",
       "Name: basement_score, Length: 1156, dtype: int64"
      ]
     },
     "execution_count": 145,
     "metadata": {},
     "output_type": "execute_result"
    }
   ],
   "source": [
    "real_estate['basement_score'].value_counts()"
   ]
  },
  {
   "cell_type": "markdown",
   "id": "62060a3b-fe64-4cfb-a50d-dcdfb5cc3371",
   "metadata": {
    "tags": []
   },
   "source": [
    "## Kitchen"
   ]
  },
  {
   "cell_type": "code",
   "execution_count": 146,
   "id": "edbfa192-7bc9-48f0-b8c5-85789cb2079d",
   "metadata": {},
   "outputs": [],
   "source": [
    "real_estate['kitchen_score'] = simple_interaction_feature(real_estate, ['kitchen_abvgr','kitchen_qual'])"
   ]
  },
  {
   "cell_type": "code",
   "execution_count": 147,
   "id": "ffae9837-3a1f-4aa8-a254-0d4702de043b",
   "metadata": {},
   "outputs": [
    {
     "data": {
      "text/plain": [
       "3    965\n",
       "4    809\n",
       "5    151\n",
       "6     79\n",
       "2     41\n",
       "8      3\n",
       "0      2\n",
       "9      1\n",
       "Name: kitchen_score, dtype: int64"
      ]
     },
     "execution_count": 147,
     "metadata": {},
     "output_type": "execute_result"
    }
   ],
   "source": [
    "real_estate['kitchen_score'].value_counts()"
   ]
  },
  {
   "cell_type": "markdown",
   "id": "5c719763-25b3-49e7-a0af-c1475e043252",
   "metadata": {
    "tags": []
   },
   "source": [
    "## Overall"
   ]
  },
  {
   "cell_type": "code",
   "execution_count": 148,
   "id": "ce501b41-afcc-468d-a27a-741c8938c865",
   "metadata": {},
   "outputs": [],
   "source": [
    "real_estate['overall_score'] = simple_interaction_feature(real_estate, ['overall_qual','overall_cond'])"
   ]
  },
  {
   "cell_type": "code",
   "execution_count": 149,
   "id": "9f5a27a6-98d9-421a-b779-d1ccc62317bb",
   "metadata": {},
   "outputs": [
    {
     "data": {
      "text/plain": [
       "35    440\n",
       "30    399\n",
       "40    265\n",
       "25    212\n",
       "42    125\n",
       "36    124\n",
       "45     81\n",
       "20     75\n",
       "48     48\n",
       "24     46\n",
       "49     34\n",
       "28     31\n",
       "16     27\n",
       "56     24\n",
       "50     21\n",
       "15     21\n",
       "12     12\n",
       "63     11\n",
       "18      8\n",
       "9       6\n",
       "54      5\n",
       "32      5\n",
       "72      4\n",
       "6       4\n",
       "8       4\n",
       "3       3\n",
       "10      3\n",
       "4       3\n",
       "90      2\n",
       "5       2\n",
       "64      2\n",
       "21      2\n",
       "1       1\n",
       "27      1\n",
       "Name: overall_score, dtype: int64"
      ]
     },
     "execution_count": 149,
     "metadata": {},
     "output_type": "execute_result"
    }
   ],
   "source": [
    "real_estate['overall_score'].value_counts()"
   ]
  },
  {
   "cell_type": "markdown",
   "id": "67a69e0b-22fd-42c0-8db7-c1db6c8940ed",
   "metadata": {
    "tags": []
   },
   "source": [
    "# Exporting Processed CSV"
   ]
  },
  {
   "cell_type": "code",
   "execution_count": 150,
   "id": "f88db91f-a0e9-4660-a513-d17e1d3ea235",
   "metadata": {},
   "outputs": [],
   "source": [
    "real_estate.to_csv('./datasets/processed_train.csv',index=False)"
   ]
  },
  {
   "cell_type": "markdown",
   "id": "5d4ad8de-f89f-4c8a-a425-7bd1b30928fd",
   "metadata": {},
   "source": []
  }
 ],
 "metadata": {
  "kernelspec": {
   "display_name": "Python 3",
   "language": "python",
   "name": "python3"
  },
  "language_info": {
   "codemirror_mode": {
    "name": "ipython",
    "version": 3
   },
   "file_extension": ".py",
   "mimetype": "text/x-python",
   "name": "python",
   "nbconvert_exporter": "python",
   "pygments_lexer": "ipython3",
   "version": "3.8.8"
  }
 },
 "nbformat": 4,
 "nbformat_minor": 5
}
