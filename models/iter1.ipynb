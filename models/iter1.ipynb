{
 "cells": [
  {
   "cell_type": "markdown",
   "id": "e970b423-4388-4b56-8fee-941656476ab9",
   "metadata": {},
   "source": [
    "Looking at Lot Area, Garage Area, Wood Deck SF, Open Porch SF, Pool Area"
   ]
  },
  {
   "cell_type": "markdown",
   "id": "9bc262f1-ee7d-4a84-8c26-067c796467f1",
   "metadata": {},
   "source": [
    "Importing Libraries"
   ]
  },
  {
   "cell_type": "code",
   "execution_count": 30,
   "id": "6ef9f6d6-9d07-4ab6-82bc-74f41ecd60d5",
   "metadata": {},
   "outputs": [],
   "source": [
    "import helper"
   ]
  },
  {
   "cell_type": "code",
   "execution_count": 31,
   "id": "510f6360-6c02-4f5a-b748-06c9172ac693",
   "metadata": {},
   "outputs": [],
   "source": [
    "import pandas as pd\n",
    "import numpy as np\n",
    "import matplotlib.pyplot as plt\n",
    "import seaborn as sns"
   ]
  },
  {
   "cell_type": "markdown",
   "id": "fa115779-eff5-4315-8025-090fa8642f10",
   "metadata": {},
   "source": [
    "Importing Data"
   ]
  },
  {
   "cell_type": "code",
   "execution_count": 32,
   "id": "edc993ae-e860-43cf-a50b-4cca24b0a9f9",
   "metadata": {},
   "outputs": [],
   "source": [
    "x = pd.DataFrame()"
   ]
  },
  {
   "cell_type": "code",
   "execution_count": 33,
   "id": "2b99bd53-97d3-473c-8519-11030143cede",
   "metadata": {},
   "outputs": [],
   "source": [
    "real_estate = pd.read_csv('../datasets/train.csv')"
   ]
  },
  {
   "cell_type": "markdown",
   "id": "51bd10cc-5420-4051-b496-0efcf92ae9a6",
   "metadata": {},
   "source": [
    "Cleaning"
   ]
  },
  {
   "cell_type": "code",
   "execution_count": 34,
   "id": "9d8898ee-309a-4a37-a3ca-c327f8d2e50e",
   "metadata": {},
   "outputs": [],
   "source": [
    "real_estate.columns = (real_estate.columns.str.lower()).str.replace(\" \",\"_\")"
   ]
  },
  {
   "cell_type": "code",
   "execution_count": 35,
   "id": "8241b5ee-f05c-4375-a630-103a2c479d99",
   "metadata": {},
   "outputs": [],
   "source": [
    "features = ['lot_area','garage_area','wood_deck_sf','open_porch_sf','pool_area']"
   ]
  },
  {
   "cell_type": "code",
   "execution_count": 36,
   "id": "605b1290-921c-4d03-b1a2-5c5b4dd8ec46",
   "metadata": {},
   "outputs": [],
   "source": [
    "iter_1_X = real_estate[features]"
   ]
  },
  {
   "cell_type": "code",
   "execution_count": 37,
   "id": "d4e7b6c9-e922-42e1-bcf8-cc73d1d3a5bd",
   "metadata": {},
   "outputs": [
    {
     "data": {
      "text/plain": [
       "lot_area         0\n",
       "garage_area      1\n",
       "wood_deck_sf     0\n",
       "open_porch_sf    0\n",
       "pool_area        0\n",
       "dtype: int64"
      ]
     },
     "execution_count": 37,
     "metadata": {},
     "output_type": "execute_result"
    }
   ],
   "source": [
    "iter_1_X.isnull().sum()"
   ]
  },
  {
   "cell_type": "code",
   "execution_count": 38,
   "id": "14eccb53-beb9-4a31-85f6-c85449ec9b4c",
   "metadata": {},
   "outputs": [
    {
     "name": "stderr",
     "output_type": "stream",
     "text": [
      "C:\\ProgramData\\Anaconda3\\lib\\site-packages\\pandas\\core\\frame.py:4462: SettingWithCopyWarning: \n",
      "A value is trying to be set on a copy of a slice from a DataFrame\n",
      "\n",
      "See the caveats in the documentation: https://pandas.pydata.org/pandas-docs/stable/user_guide/indexing.html#returning-a-view-versus-a-copy\n",
      "  return super().fillna(\n"
     ]
    }
   ],
   "source": [
    "iter_1_X.fillna(0, inplace=True)"
   ]
  },
  {
   "cell_type": "code",
   "execution_count": 39,
   "id": "1ce5a587-a10b-4175-bf8f-ab5028ef3e6a",
   "metadata": {},
   "outputs": [
    {
     "data": {
      "text/html": [
       "<div>\n",
       "<style scoped>\n",
       "    .dataframe tbody tr th:only-of-type {\n",
       "        vertical-align: middle;\n",
       "    }\n",
       "\n",
       "    .dataframe tbody tr th {\n",
       "        vertical-align: top;\n",
       "    }\n",
       "\n",
       "    .dataframe thead th {\n",
       "        text-align: right;\n",
       "    }\n",
       "</style>\n",
       "<table border=\"1\" class=\"dataframe\">\n",
       "  <thead>\n",
       "    <tr style=\"text-align: right;\">\n",
       "      <th></th>\n",
       "      <th>lot_area</th>\n",
       "      <th>garage_area</th>\n",
       "      <th>wood_deck_sf</th>\n",
       "      <th>open_porch_sf</th>\n",
       "      <th>pool_area</th>\n",
       "    </tr>\n",
       "  </thead>\n",
       "  <tbody>\n",
       "    <tr>\n",
       "      <th>0</th>\n",
       "      <td>13517</td>\n",
       "      <td>475.0</td>\n",
       "      <td>0</td>\n",
       "      <td>44</td>\n",
       "      <td>0</td>\n",
       "    </tr>\n",
       "    <tr>\n",
       "      <th>1</th>\n",
       "      <td>11492</td>\n",
       "      <td>559.0</td>\n",
       "      <td>0</td>\n",
       "      <td>74</td>\n",
       "      <td>0</td>\n",
       "    </tr>\n",
       "    <tr>\n",
       "      <th>2</th>\n",
       "      <td>7922</td>\n",
       "      <td>246.0</td>\n",
       "      <td>0</td>\n",
       "      <td>52</td>\n",
       "      <td>0</td>\n",
       "    </tr>\n",
       "    <tr>\n",
       "      <th>3</th>\n",
       "      <td>9802</td>\n",
       "      <td>400.0</td>\n",
       "      <td>100</td>\n",
       "      <td>0</td>\n",
       "      <td>0</td>\n",
       "    </tr>\n",
       "    <tr>\n",
       "      <th>4</th>\n",
       "      <td>14235</td>\n",
       "      <td>484.0</td>\n",
       "      <td>0</td>\n",
       "      <td>59</td>\n",
       "      <td>0</td>\n",
       "    </tr>\n",
       "  </tbody>\n",
       "</table>\n",
       "</div>"
      ],
      "text/plain": [
       "   lot_area  garage_area  wood_deck_sf  open_porch_sf  pool_area\n",
       "0     13517        475.0             0             44          0\n",
       "1     11492        559.0             0             74          0\n",
       "2      7922        246.0             0             52          0\n",
       "3      9802        400.0           100              0          0\n",
       "4     14235        484.0             0             59          0"
      ]
     },
     "execution_count": 39,
     "metadata": {},
     "output_type": "execute_result"
    }
   ],
   "source": [
    "iter_1_X.head()"
   ]
  },
  {
   "cell_type": "code",
   "execution_count": 40,
   "id": "3cf98877-3678-4b5e-8492-78871a57f7ee",
   "metadata": {},
   "outputs": [],
   "source": [
    "iter_1_y = real_estate['saleprice']"
   ]
  },
  {
   "cell_type": "markdown",
   "id": "80faf96e-7501-4eee-9d68-e7f8239476f3",
   "metadata": {},
   "source": [
    "Modeling"
   ]
  },
  {
   "cell_type": "code",
   "execution_count": 41,
   "id": "8978530b-0773-41ac-8061-287e5ce397d3",
   "metadata": {},
   "outputs": [],
   "source": [
    "from sklearn.linear_model import LinearRegression"
   ]
  },
  {
   "cell_type": "code",
   "execution_count": 42,
   "id": "2f9f3c53-a832-4c41-b728-a63164957f0e",
   "metadata": {},
   "outputs": [],
   "source": [
    "linreg = LinearRegression()"
   ]
  },
  {
   "cell_type": "code",
   "execution_count": 43,
   "id": "0b364e31-bb60-4877-a696-d9922aa8e2d3",
   "metadata": {},
   "outputs": [
    {
     "data": {
      "text/plain": [
       "LinearRegression()"
      ]
     },
     "execution_count": 43,
     "metadata": {},
     "output_type": "execute_result"
    }
   ],
   "source": [
    "linreg.fit(iter_1_X, iter_1_y)"
   ]
  },
  {
   "cell_type": "markdown",
   "id": "483f6c66-37f6-4823-8e9c-22b03fdc30dc",
   "metadata": {},
   "source": [
    "Scoring"
   ]
  },
  {
   "cell_type": "code",
   "execution_count": 44,
   "id": "16635eee-90ac-4a49-a222-f16de431dbfc",
   "metadata": {},
   "outputs": [],
   "source": [
    "from sklearn.model_selection import cross_val_score\n",
    "from sklearn.metrics import r2_score"
   ]
  },
  {
   "cell_type": "code",
   "execution_count": 45,
   "id": "0ea9083f-3602-4d90-a9ef-e8df0cb0dad9",
   "metadata": {},
   "outputs": [],
   "source": [
    "scores = cross_val_score(linreg, iter_1_X, iter_1_y, cv=5)"
   ]
  },
  {
   "cell_type": "code",
   "execution_count": 46,
   "id": "b57831d3-0db3-409d-a9ff-97718aba4a59",
   "metadata": {},
   "outputs": [
    {
     "data": {
      "text/plain": [
       "0.48838849344011254"
      ]
     },
     "execution_count": 46,
     "metadata": {},
     "output_type": "execute_result"
    }
   ],
   "source": [
    "scores.mean()"
   ]
  },
  {
   "cell_type": "code",
   "execution_count": 47,
   "id": "fe5afd01-b01f-43c9-8b7e-17cfd446c707",
   "metadata": {},
   "outputs": [],
   "source": [
    "predicts = linreg.predict(iter_1_X)"
   ]
  },
  {
   "cell_type": "code",
   "execution_count": 48,
   "id": "f0f8b801-2e8b-4756-8725-e20aaab9ac3b",
   "metadata": {},
   "outputs": [
    {
     "data": {
      "text/plain": [
       "0.4970684919129751"
      ]
     },
     "execution_count": 48,
     "metadata": {},
     "output_type": "execute_result"
    }
   ],
   "source": [
    "r2_score(real_estate['saleprice'],predicts)"
   ]
  },
  {
   "cell_type": "markdown",
   "id": "974b0155-0b87-4f8f-9da8-6cde4ef4e46e",
   "metadata": {},
   "source": [
    "Predicting"
   ]
  },
  {
   "cell_type": "code",
   "execution_count": 49,
   "id": "e6744005-f176-4ef7-8c16-6c82109ab3b7",
   "metadata": {},
   "outputs": [],
   "source": [
    "test = pd.read_csv('../datasets/test.csv')"
   ]
  },
  {
   "cell_type": "code",
   "execution_count": 50,
   "id": "89c107d2-2608-4354-8146-aea4302b5ecb",
   "metadata": {},
   "outputs": [
    {
     "data": {
      "text/plain": [
       "(878, 80)"
      ]
     },
     "execution_count": 50,
     "metadata": {},
     "output_type": "execute_result"
    }
   ],
   "source": [
    "test.shape"
   ]
  },
  {
   "cell_type": "code",
   "execution_count": 51,
   "id": "7f90f23d-999d-4e4f-b4d2-92ed0f2b2bde",
   "metadata": {},
   "outputs": [],
   "source": [
    "test.columns = (test.columns.str.lower()).str.replace(' ','_')"
   ]
  },
  {
   "cell_type": "code",
   "execution_count": 52,
   "id": "c40b1c80-2629-4fa5-9fbd-36e96e0105e4",
   "metadata": {},
   "outputs": [],
   "source": [
    "test_X = test[features]"
   ]
  },
  {
   "cell_type": "code",
   "execution_count": 53,
   "id": "49c18c14-1c5f-458a-9e3c-e8c86332f21d",
   "metadata": {},
   "outputs": [
    {
     "data": {
      "text/html": [
       "<div>\n",
       "<style scoped>\n",
       "    .dataframe tbody tr th:only-of-type {\n",
       "        vertical-align: middle;\n",
       "    }\n",
       "\n",
       "    .dataframe tbody tr th {\n",
       "        vertical-align: top;\n",
       "    }\n",
       "\n",
       "    .dataframe thead th {\n",
       "        text-align: right;\n",
       "    }\n",
       "</style>\n",
       "<table border=\"1\" class=\"dataframe\">\n",
       "  <thead>\n",
       "    <tr style=\"text-align: right;\">\n",
       "      <th></th>\n",
       "      <th>lot_area</th>\n",
       "      <th>garage_area</th>\n",
       "      <th>wood_deck_sf</th>\n",
       "      <th>open_porch_sf</th>\n",
       "      <th>pool_area</th>\n",
       "    </tr>\n",
       "  </thead>\n",
       "  <tbody>\n",
       "    <tr>\n",
       "      <th>0</th>\n",
       "      <td>9142</td>\n",
       "      <td>440</td>\n",
       "      <td>0</td>\n",
       "      <td>60</td>\n",
       "      <td>0</td>\n",
       "    </tr>\n",
       "    <tr>\n",
       "      <th>1</th>\n",
       "      <td>9662</td>\n",
       "      <td>580</td>\n",
       "      <td>170</td>\n",
       "      <td>0</td>\n",
       "      <td>0</td>\n",
       "    </tr>\n",
       "    <tr>\n",
       "      <th>2</th>\n",
       "      <td>17104</td>\n",
       "      <td>426</td>\n",
       "      <td>100</td>\n",
       "      <td>24</td>\n",
       "      <td>0</td>\n",
       "    </tr>\n",
       "    <tr>\n",
       "      <th>3</th>\n",
       "      <td>8520</td>\n",
       "      <td>480</td>\n",
       "      <td>0</td>\n",
       "      <td>0</td>\n",
       "      <td>0</td>\n",
       "    </tr>\n",
       "    <tr>\n",
       "      <th>4</th>\n",
       "      <td>9500</td>\n",
       "      <td>514</td>\n",
       "      <td>0</td>\n",
       "      <td>76</td>\n",
       "      <td>0</td>\n",
       "    </tr>\n",
       "    <tr>\n",
       "      <th>...</th>\n",
       "      <td>...</td>\n",
       "      <td>...</td>\n",
       "      <td>...</td>\n",
       "      <td>...</td>\n",
       "      <td>...</td>\n",
       "    </tr>\n",
       "    <tr>\n",
       "      <th>873</th>\n",
       "      <td>8000</td>\n",
       "      <td>488</td>\n",
       "      <td>0</td>\n",
       "      <td>96</td>\n",
       "      <td>0</td>\n",
       "    </tr>\n",
       "    <tr>\n",
       "      <th>874</th>\n",
       "      <td>14670</td>\n",
       "      <td>480</td>\n",
       "      <td>0</td>\n",
       "      <td>230</td>\n",
       "      <td>0</td>\n",
       "    </tr>\n",
       "    <tr>\n",
       "      <th>875</th>\n",
       "      <td>8250</td>\n",
       "      <td>322</td>\n",
       "      <td>0</td>\n",
       "      <td>63</td>\n",
       "      <td>0</td>\n",
       "    </tr>\n",
       "    <tr>\n",
       "      <th>876</th>\n",
       "      <td>9000</td>\n",
       "      <td>528</td>\n",
       "      <td>0</td>\n",
       "      <td>0</td>\n",
       "      <td>0</td>\n",
       "    </tr>\n",
       "    <tr>\n",
       "      <th>877</th>\n",
       "      <td>8400</td>\n",
       "      <td>390</td>\n",
       "      <td>81</td>\n",
       "      <td>0</td>\n",
       "      <td>0</td>\n",
       "    </tr>\n",
       "  </tbody>\n",
       "</table>\n",
       "<p>878 rows × 5 columns</p>\n",
       "</div>"
      ],
      "text/plain": [
       "     lot_area  garage_area  wood_deck_sf  open_porch_sf  pool_area\n",
       "0        9142          440             0             60          0\n",
       "1        9662          580           170              0          0\n",
       "2       17104          426           100             24          0\n",
       "3        8520          480             0              0          0\n",
       "4        9500          514             0             76          0\n",
       "..        ...          ...           ...            ...        ...\n",
       "873      8000          488             0             96          0\n",
       "874     14670          480             0            230          0\n",
       "875      8250          322             0             63          0\n",
       "876      9000          528             0              0          0\n",
       "877      8400          390            81              0          0\n",
       "\n",
       "[878 rows x 5 columns]"
      ]
     },
     "execution_count": 53,
     "metadata": {},
     "output_type": "execute_result"
    }
   ],
   "source": [
    "test_X"
   ]
  },
  {
   "cell_type": "code",
   "execution_count": 54,
   "id": "efa047cb-ca2a-4f32-a099-c8e3ee440af7",
   "metadata": {},
   "outputs": [],
   "source": [
    "predicts = pd.DataFrame(linreg.predict(test[features]))"
   ]
  },
  {
   "cell_type": "code",
   "execution_count": 55,
   "id": "4f93504b-9b65-471e-a2b0-6ec0c31bf7bb",
   "metadata": {},
   "outputs": [],
   "source": [
    "submission = pd.concat([test['id'],predicts],axis=1)"
   ]
  },
  {
   "cell_type": "code",
   "execution_count": 56,
   "id": "7dfa008e-7dc0-4162-9469-5953b26c54aa",
   "metadata": {},
   "outputs": [],
   "source": [
    "submission.columns = ['Id','SalePrice']"
   ]
  },
  {
   "cell_type": "code",
   "execution_count": 57,
   "id": "4cc6e60e-0b4d-4a2d-b33f-5b8faec3a131",
   "metadata": {},
   "outputs": [
    {
     "data": {
      "text/html": [
       "<div>\n",
       "<style scoped>\n",
       "    .dataframe tbody tr th:only-of-type {\n",
       "        vertical-align: middle;\n",
       "    }\n",
       "\n",
       "    .dataframe tbody tr th {\n",
       "        vertical-align: top;\n",
       "    }\n",
       "\n",
       "    .dataframe thead th {\n",
       "        text-align: right;\n",
       "    }\n",
       "</style>\n",
       "<table border=\"1\" class=\"dataframe\">\n",
       "  <thead>\n",
       "    <tr style=\"text-align: right;\">\n",
       "      <th></th>\n",
       "      <th>Id</th>\n",
       "      <th>SalePrice</th>\n",
       "    </tr>\n",
       "  </thead>\n",
       "  <tbody>\n",
       "    <tr>\n",
       "      <th>0</th>\n",
       "      <td>2658</td>\n",
       "      <td>166440.071487</td>\n",
       "    </tr>\n",
       "    <tr>\n",
       "      <th>1</th>\n",
       "      <td>2718</td>\n",
       "      <td>200215.737651</td>\n",
       "    </tr>\n",
       "    <tr>\n",
       "      <th>2</th>\n",
       "      <td>2414</td>\n",
       "      <td>176984.323311</td>\n",
       "    </tr>\n",
       "    <tr>\n",
       "      <th>3</th>\n",
       "      <td>1989</td>\n",
       "      <td>160623.341759</td>\n",
       "    </tr>\n",
       "    <tr>\n",
       "      <th>4</th>\n",
       "      <td>625</td>\n",
       "      <td>184869.738312</td>\n",
       "    </tr>\n",
       "    <tr>\n",
       "      <th>...</th>\n",
       "      <td>...</td>\n",
       "      <td>...</td>\n",
       "    </tr>\n",
       "    <tr>\n",
       "      <th>873</th>\n",
       "      <td>1662</td>\n",
       "      <td>182144.234648</td>\n",
       "    </tr>\n",
       "    <tr>\n",
       "      <th>874</th>\n",
       "      <td>1234</td>\n",
       "      <td>217843.937397</td>\n",
       "    </tr>\n",
       "    <tr>\n",
       "      <th>875</th>\n",
       "      <td>1373</td>\n",
       "      <td>142765.019234</td>\n",
       "    </tr>\n",
       "    <tr>\n",
       "      <th>876</th>\n",
       "      <td>1672</td>\n",
       "      <td>170665.192501</td>\n",
       "    </tr>\n",
       "    <tr>\n",
       "      <th>877</th>\n",
       "      <td>1939</td>\n",
       "      <td>151599.313434</td>\n",
       "    </tr>\n",
       "  </tbody>\n",
       "</table>\n",
       "<p>878 rows × 2 columns</p>\n",
       "</div>"
      ],
      "text/plain": [
       "       Id      SalePrice\n",
       "0    2658  166440.071487\n",
       "1    2718  200215.737651\n",
       "2    2414  176984.323311\n",
       "3    1989  160623.341759\n",
       "4     625  184869.738312\n",
       "..    ...            ...\n",
       "873  1662  182144.234648\n",
       "874  1234  217843.937397\n",
       "875  1373  142765.019234\n",
       "876  1672  170665.192501\n",
       "877  1939  151599.313434\n",
       "\n",
       "[878 rows x 2 columns]"
      ]
     },
     "execution_count": 57,
     "metadata": {},
     "output_type": "execute_result"
    }
   ],
   "source": [
    "submission"
   ]
  },
  {
   "cell_type": "code",
   "execution_count": 58,
   "id": "214df2ba-8764-45b5-802c-5bb694876e42",
   "metadata": {},
   "outputs": [],
   "source": [
    "submission.to_csv('../submissions/iter1.csv',index=False)"
   ]
  },
  {
   "cell_type": "code",
   "execution_count": null,
   "id": "8270e25a-f50d-45af-b542-5a4fd37bba92",
   "metadata": {},
   "outputs": [],
   "source": []
  }
 ],
 "metadata": {
  "kernelspec": {
   "display_name": "Python 3",
   "language": "python",
   "name": "python3"
  },
  "language_info": {
   "codemirror_mode": {
    "name": "ipython",
    "version": 3
   },
   "file_extension": ".py",
   "mimetype": "text/x-python",
   "name": "python",
   "nbconvert_exporter": "python",
   "pygments_lexer": "ipython3",
   "version": "3.8.8"
  }
 },
 "nbformat": 4,
 "nbformat_minor": 5
}
