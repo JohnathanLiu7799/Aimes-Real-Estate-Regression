{
 "cells": [
  {
   "cell_type": "markdown",
   "id": "5c9a0b4b-c1b1-4225-a949-182cb815b218",
   "metadata": {
    "tags": []
   },
   "source": [
    "# Import Libraries and Data"
   ]
  },
  {
   "cell_type": "code",
   "execution_count": 23,
   "id": "121668cf-3712-467f-8f1e-4fa6c7b02ca8",
   "metadata": {},
   "outputs": [],
   "source": [
    "import helper"
   ]
  },
  {
   "cell_type": "code",
   "execution_count": 24,
   "id": "59148745-7eaf-445e-aea3-a6012e6f9e6f",
   "metadata": {},
   "outputs": [],
   "source": [
    "import pandas as pd\n",
    "import numpy as np\n",
    "import matplotlib.pyplot as plt\n",
    "import seaborn as sns"
   ]
  },
  {
   "cell_type": "code",
   "execution_count": 25,
   "id": "13cb6761-ac2d-433f-b1c9-d96cfef5b540",
   "metadata": {},
   "outputs": [],
   "source": [
    "def simple_interaction_feature(df, list_of_old_features):\n",
    "    new_feature_val = 1\n",
    "    for feature in list_of_old_features:\n",
    "        new_feature_val = new_feature_val * df[feature]\n",
    "    return new_feature_val"
   ]
  },
  {
   "cell_type": "code",
   "execution_count": 26,
   "id": "4bfc6eeb-fcc8-4270-8868-415b0d502fc1",
   "metadata": {},
   "outputs": [],
   "source": [
    "real_estate = pd.read_csv('../datasets/processed_train.csv')"
   ]
  },
  {
   "cell_type": "code",
   "execution_count": 27,
   "id": "4c52e0c3-1044-4334-8f8b-795f4e9b248d",
   "metadata": {},
   "outputs": [],
   "source": [
    "real_estate['garage_score'] = simple_interaction_feature(real_estate, ['garage_area','garage_qual','garage_cars','garage_cond'])"
   ]
  },
  {
   "cell_type": "code",
   "execution_count": 28,
   "id": "a4cb6a2a-cdec-4562-8fdf-a801f93c1e7a",
   "metadata": {},
   "outputs": [],
   "source": [
    "real_estate = real_estate[['overall_qual', 'year_built', 'year_remod/add', 'mas_vnr_area',\n",
    "       'exter_qual', 'bsmt_qual', 'total_bsmt_sf', '1st_flr_sf', 'gr_liv_area',\n",
    "       'kitchen_qual', 'saleprice', 'garage_score']]"
   ]
  },
  {
   "cell_type": "code",
   "execution_count": 29,
   "id": "edc65a7c-73f0-4086-89d5-7ea598011f0c",
   "metadata": {},
   "outputs": [],
   "source": [
    "dummy_neighborhood = pd.read_csv('../datasets/dummies/neighborhood_dummies.csv')"
   ]
  },
  {
   "cell_type": "code",
   "execution_count": 30,
   "id": "7e0b09e9-a648-4202-9461-a5b010b19994",
   "metadata": {},
   "outputs": [],
   "source": [
    "real_estate = pd.concat([real_estate,dummy_neighborhood],axis=1)"
   ]
  },
  {
   "cell_type": "code",
   "execution_count": 31,
   "id": "b47a35c8-1b38-4b68-be5e-e5fa48ed8c67",
   "metadata": {},
   "outputs": [],
   "source": [
    "from sklearn.model_selection import cross_val_score\n",
    "from sklearn.metrics import r2_score\n",
    "from sklearn.metrics import mean_absolute_error, mean_squared_error\n",
    "from sklearn.linear_model import Lasso, Ridge, LassoCV, RidgeCV"
   ]
  },
  {
   "cell_type": "code",
   "execution_count": 32,
   "id": "0f6451ad-35e7-484a-a139-d05c0fa57177",
   "metadata": {},
   "outputs": [],
   "source": [
    "X = real_estate.drop(columns=['saleprice'])\n",
    "y = real_estate['saleprice']"
   ]
  },
  {
   "cell_type": "code",
   "execution_count": 33,
   "id": "28fbb87d-cf1f-45cc-90c3-86e3fa0c5395",
   "metadata": {},
   "outputs": [],
   "source": [
    "from sklearn.model_selection import train_test_split"
   ]
  },
  {
   "cell_type": "code",
   "execution_count": 34,
   "id": "c6982249-dce9-4fb3-8918-4dafd2b5fb0a",
   "metadata": {},
   "outputs": [],
   "source": [
    "X_train, X_test, y_train, y_test = train_test_split(X,y,\n",
    "                                                   random_state=42,\n",
    "                                                   test_size = .2)"
   ]
  },
  {
   "cell_type": "code",
   "execution_count": 35,
   "id": "eccc6c15-1604-4b13-89fa-91e8f8e2d55b",
   "metadata": {},
   "outputs": [],
   "source": [
    "column_names = X_train.columns"
   ]
  },
  {
   "cell_type": "code",
   "execution_count": 36,
   "id": "47487921-7e5e-4620-9491-1a827f56d0f7",
   "metadata": {},
   "outputs": [],
   "source": [
    "from sklearn.linear_model import LinearRegression"
   ]
  },
  {
   "cell_type": "code",
   "execution_count": 37,
   "id": "7c574405-cc8e-4e61-8959-4402c9d2a4c8",
   "metadata": {},
   "outputs": [],
   "source": [
    "lasso = Lasso()\n",
    "ridge = Ridge()"
   ]
  },
  {
   "cell_type": "markdown",
   "id": "45f80d27-d774-4a65-aee4-e1634277d7e2",
   "metadata": {
    "tags": []
   },
   "source": [
    "# Ridge"
   ]
  },
  {
   "cell_type": "code",
   "execution_count": 38,
   "id": "01b4e9e5-05a8-41f8-8003-6bc77206280c",
   "metadata": {},
   "outputs": [],
   "source": [
    "ridge_alphas = np.logspace(0,5,100)\n",
    "ridge_cv = RidgeCV(alphas = ridge_alphas, scoring = 'r2', cv=5)\n",
    "ridge_cv.fit(X_train, y_train);"
   ]
  },
  {
   "cell_type": "code",
   "execution_count": 39,
   "id": "6a52e567-6d12-4621-9d44-414a5a060956",
   "metadata": {},
   "outputs": [],
   "source": [
    "ridge_cv;"
   ]
  },
  {
   "cell_type": "code",
   "execution_count": 40,
   "id": "51c614f4-bfae-4fce-b11b-bcc93c653235",
   "metadata": {},
   "outputs": [
    {
     "data": {
      "text/plain": [
       "1.0"
      ]
     },
     "execution_count": 40,
     "metadata": {},
     "output_type": "execute_result"
    }
   ],
   "source": [
    "ridge_cv.alpha_"
   ]
  },
  {
   "cell_type": "code",
   "execution_count": 41,
   "id": "4bfbe82c-05ca-4343-98aa-e001ef8bfeed",
   "metadata": {},
   "outputs": [],
   "source": [
    "ridge = Ridge()"
   ]
  },
  {
   "cell_type": "code",
   "execution_count": 42,
   "id": "1ef24f0d-c713-4a05-a252-da881941f55a",
   "metadata": {},
   "outputs": [
    {
     "data": {
      "text/plain": [
       "Ridge()"
      ]
     },
     "execution_count": 42,
     "metadata": {},
     "output_type": "execute_result"
    }
   ],
   "source": [
    "ridge.fit(X_train, y_train)"
   ]
  },
  {
   "cell_type": "code",
   "execution_count": 43,
   "id": "5d65c5df-e41a-4e29-b095-1b98a15a459a",
   "metadata": {},
   "outputs": [],
   "source": [
    "neighborhood_coefficients = [ {'name':n,'coef':x} for n, x in list(zip(X_train.columns,ridge.coef_)) if ('neighborhood') in n]"
   ]
  },
  {
   "cell_type": "code",
   "execution_count": 44,
   "id": "81e6efa9-52de-4581-91bb-9ad525362ddd",
   "metadata": {},
   "outputs": [],
   "source": [
    "neighborhood_coefficients = pd.DataFrame(neighborhood_coefficients)"
   ]
  },
  {
   "cell_type": "code",
   "execution_count": 45,
   "id": "48ae60fa-3ed6-4bb3-b7aa-61b157a846fe",
   "metadata": {},
   "outputs": [],
   "source": [
    "neighborhood_coefficients = neighborhood_coefficients.sort_values('coef',ascending=False)"
   ]
  },
  {
   "cell_type": "code",
   "execution_count": 46,
   "id": "89bd8123-239a-40e2-a78c-b75a5a93f857",
   "metadata": {},
   "outputs": [],
   "source": [
    "neighborhood_coefficients['name'] = neighborhood_coefficients['name'].str.replace('neighborhood_','')"
   ]
  },
  {
   "cell_type": "code",
   "execution_count": 47,
   "id": "5bef57d5-2f10-4444-b03a-cbc139c9f534",
   "metadata": {},
   "outputs": [
    {
     "data": {
      "image/png": "[encoded data removed]",
      "text/plain": [
       "<Figure size 1080x720 with 1 Axes>"
      ]
     },
     "metadata": {
      "needs_background": "light"
     },
     "output_type": "display_data"
    }
   ],
   "source": [
    "plt.figure(figsize = (15,10))\n",
    "sns.barplot(data = neighborhood_coefficients,\n",
    "            x = 'name',\n",
    "            y = 'coef')\n",
    "\n",
    "plt.ylabel('Coefficient')\n",
    "plt.xlabel('Feature')\n",
    "plt.title('Neighborhoods')\n",
    "plt.xticks(rotation=45)\n",
    "\n",
    "plt.savefig('Neighborhoods')"
   ]
  },
  {
   "cell_type": "code",
   "execution_count": 48,
   "id": "54401df7-f430-4580-b7b6-d99b38727365",
   "metadata": {},
   "outputs": [
    {
     "data": {
      "text/html": [
       "<div>\n",
       "<style scoped>\n",
       "    .dataframe tbody tr th:only-of-type {\n",
       "        vertical-align: middle;\n",
       "    }\n",
       "\n",
       "    .dataframe tbody tr th {\n",
       "        vertical-align: top;\n",
       "    }\n",
       "\n",
       "    .dataframe thead th {\n",
       "        text-align: right;\n",
       "    }\n",
       "</style>\n",
       "<table border=\"1\" class=\"dataframe\">\n",
       "  <thead>\n",
       "    <tr style=\"text-align: right;\">\n",
       "      <th></th>\n",
       "      <th>name</th>\n",
       "      <th>coef</th>\n",
       "    </tr>\n",
       "  </thead>\n",
       "  <tbody>\n",
       "    <tr>\n",
       "      <th>10</th>\n",
       "      <td>GrnHill</td>\n",
       "      <td>63526.672375</td>\n",
       "    </tr>\n",
       "    <tr>\n",
       "      <th>25</th>\n",
       "      <td>StoneBr</td>\n",
       "      <td>53329.037358</td>\n",
       "    </tr>\n",
       "    <tr>\n",
       "      <th>19</th>\n",
       "      <td>NridgHt</td>\n",
       "      <td>34451.800466</td>\n",
       "    </tr>\n",
       "    <tr>\n",
       "      <th>18</th>\n",
       "      <td>NoRidge</td>\n",
       "      <td>28629.492497</td>\n",
       "    </tr>\n",
       "    <tr>\n",
       "      <th>6</th>\n",
       "      <td>Crawfor</td>\n",
       "      <td>21775.737551</td>\n",
       "    </tr>\n",
       "    <tr>\n",
       "      <th>4</th>\n",
       "      <td>ClearCr</td>\n",
       "      <td>17486.437526</td>\n",
       "    </tr>\n",
       "    <tr>\n",
       "      <th>27</th>\n",
       "      <td>Veenker</td>\n",
       "      <td>12615.073491</td>\n",
       "    </tr>\n",
       "    <tr>\n",
       "      <th>26</th>\n",
       "      <td>Timber</td>\n",
       "      <td>12214.810118</td>\n",
       "    </tr>\n",
       "    <tr>\n",
       "      <th>22</th>\n",
       "      <td>Sawyer</td>\n",
       "      <td>-1731.118669</td>\n",
       "    </tr>\n",
       "    <tr>\n",
       "      <th>15</th>\n",
       "      <td>NAmes</td>\n",
       "      <td>-2080.454032</td>\n",
       "    </tr>\n",
       "    <tr>\n",
       "      <th>3</th>\n",
       "      <td>BrkSide</td>\n",
       "      <td>-2356.640108</td>\n",
       "    </tr>\n",
       "    <tr>\n",
       "      <th>14</th>\n",
       "      <td>Mitchel</td>\n",
       "      <td>-4357.025487</td>\n",
       "    </tr>\n",
       "    <tr>\n",
       "      <th>8</th>\n",
       "      <td>Gilbert</td>\n",
       "      <td>-5084.993578</td>\n",
       "    </tr>\n",
       "    <tr>\n",
       "      <th>17</th>\n",
       "      <td>NWAmes</td>\n",
       "      <td>-5953.515093</td>\n",
       "    </tr>\n",
       "    <tr>\n",
       "      <th>5</th>\n",
       "      <td>CollgCr</td>\n",
       "      <td>-7232.298801</td>\n",
       "    </tr>\n",
       "    <tr>\n",
       "      <th>24</th>\n",
       "      <td>Somerst</td>\n",
       "      <td>-7355.217779</td>\n",
       "    </tr>\n",
       "    <tr>\n",
       "      <th>21</th>\n",
       "      <td>SWISU</td>\n",
       "      <td>-8826.665334</td>\n",
       "    </tr>\n",
       "    <tr>\n",
       "      <th>12</th>\n",
       "      <td>Landmrk</td>\n",
       "      <td>-11666.298642</td>\n",
       "    </tr>\n",
       "    <tr>\n",
       "      <th>23</th>\n",
       "      <td>SawyerW</td>\n",
       "      <td>-14231.829186</td>\n",
       "    </tr>\n",
       "    <tr>\n",
       "      <th>11</th>\n",
       "      <td>IDOTRR</td>\n",
       "      <td>-14867.791685</td>\n",
       "    </tr>\n",
       "    <tr>\n",
       "      <th>7</th>\n",
       "      <td>Edwards</td>\n",
       "      <td>-14874.432876</td>\n",
       "    </tr>\n",
       "    <tr>\n",
       "      <th>20</th>\n",
       "      <td>OldTown</td>\n",
       "      <td>-15847.651770</td>\n",
       "    </tr>\n",
       "    <tr>\n",
       "      <th>13</th>\n",
       "      <td>MeadowV</td>\n",
       "      <td>-16600.174297</td>\n",
       "    </tr>\n",
       "    <tr>\n",
       "      <th>9</th>\n",
       "      <td>Greens</td>\n",
       "      <td>-17963.589454</td>\n",
       "    </tr>\n",
       "    <tr>\n",
       "      <th>16</th>\n",
       "      <td>NPkVill</td>\n",
       "      <td>-18281.431388</td>\n",
       "    </tr>\n",
       "    <tr>\n",
       "      <th>0</th>\n",
       "      <td>Blmngtn</td>\n",
       "      <td>-21080.527237</td>\n",
       "    </tr>\n",
       "    <tr>\n",
       "      <th>1</th>\n",
       "      <td>Blueste</td>\n",
       "      <td>-22643.023621</td>\n",
       "    </tr>\n",
       "    <tr>\n",
       "      <th>2</th>\n",
       "      <td>BrDale</td>\n",
       "      <td>-30994.382343</td>\n",
       "    </tr>\n",
       "  </tbody>\n",
       "</table>\n",
       "</div>"
      ],
      "text/plain": [
       "       name          coef\n",
       "10  GrnHill  63526.672375\n",
       "25  StoneBr  53329.037358\n",
       "19  NridgHt  34451.800466\n",
       "18  NoRidge  28629.492497\n",
       "6   Crawfor  21775.737551\n",
       "4   ClearCr  17486.437526\n",
       "27  Veenker  12615.073491\n",
       "26   Timber  12214.810118\n",
       "22   Sawyer  -1731.118669\n",
       "15    NAmes  -2080.454032\n",
       "3   BrkSide  -2356.640108\n",
       "14  Mitchel  -4357.025487\n",
       "8   Gilbert  -5084.993578\n",
       "17   NWAmes  -5953.515093\n",
       "5   CollgCr  -7232.298801\n",
       "24  Somerst  -7355.217779\n",
       "21    SWISU  -8826.665334\n",
       "12  Landmrk -11666.298642\n",
       "23  SawyerW -14231.829186\n",
       "11   IDOTRR -14867.791685\n",
       "7   Edwards -14874.432876\n",
       "20  OldTown -15847.651770\n",
       "13  MeadowV -16600.174297\n",
       "9    Greens -17963.589454\n",
       "16  NPkVill -18281.431388\n",
       "0   Blmngtn -21080.527237\n",
       "1   Blueste -22643.023621\n",
       "2    BrDale -30994.382343"
      ]
     },
     "execution_count": 48,
     "metadata": {},
     "output_type": "execute_result"
    }
   ],
   "source": [
    "neighborhood_coefficients"
   ]
  },
  {
   "cell_type": "code",
   "execution_count": 49,
   "id": "59f142bc-8806-4267-b3da-520365549995",
   "metadata": {},
   "outputs": [],
   "source": [
    "other_coefficients = [{'coef':x,'name':n} for n, x in list(zip(X_train.columns,ridge.coef_)) if not ('neighborhood') in n]"
   ]
  },
  {
   "cell_type": "code",
   "execution_count": 50,
   "id": "8ae4a2c3-2dcc-4fb8-9f6b-93f7418f6351",
   "metadata": {},
   "outputs": [
    {
     "data": {
      "text/plain": [
       "[{'coef': 10558.853342601898, 'name': 'overall_qual'},\n",
       " {'coef': 88.55995764682915, 'name': 'year_built'},\n",
       " {'coef': 138.69064349768132, 'name': 'year_remod/add'},\n",
       " {'coef': 24.6000118439344, 'name': 'mas_vnr_area'},\n",
       " {'coef': 10886.395266514071, 'name': 'exter_qual'},\n",
       " {'coef': 6874.123448759958, 'name': 'bsmt_qual'},\n",
       " {'coef': 3.2665175848441175, 'name': 'total_bsmt_sf'},\n",
       " {'coef': 14.219521790409344, 'name': '1st_flr_sf'},\n",
       " {'coef': 37.36559578060618, 'name': 'gr_liv_area'},\n",
       " {'coef': 11019.570539565717, 'name': 'kitchen_qual'},\n",
       " {'coef': 1.8550221990653688, 'name': 'garage_score'}]"
      ]
     },
     "execution_count": 50,
     "metadata": {},
     "output_type": "execute_result"
    }
   ],
   "source": [
    "other_coefficients"
   ]
  },
  {
   "cell_type": "code",
   "execution_count": 51,
   "id": "ac979695-a29b-4a2e-8519-f4b8f31ba9f7",
   "metadata": {},
   "outputs": [],
   "source": [
    " other_coefficients = pd.DataFrame(other_coefficients)"
   ]
  },
  {
   "cell_type": "code",
   "execution_count": 52,
   "id": "af6a6004-988f-4632-9d82-6e4b3fc6b7a9",
   "metadata": {},
   "outputs": [],
   "source": [
    "other_coefficients_1 = other_coefficients.iloc[[0,4,5,9],:]"
   ]
  },
  {
   "cell_type": "code",
   "execution_count": 53,
   "id": "6ef3bc00-a575-43b4-bdb7-791f53fe979b",
   "metadata": {},
   "outputs": [],
   "source": [
    "other_coefficients_2 = other_coefficients.iloc[[8,6],:]"
   ]
  },
  {
   "cell_type": "code",
   "execution_count": 54,
   "id": "37945fb3-c5b6-42ec-9cd7-19703b0e11fe",
   "metadata": {},
   "outputs": [
    {
     "data": {
      "text/html": [
       "<div>\n",
       "<style scoped>\n",
       "    .dataframe tbody tr th:only-of-type {\n",
       "        vertical-align: middle;\n",
       "    }\n",
       "\n",
       "    .dataframe tbody tr th {\n",
       "        vertical-align: top;\n",
       "    }\n",
       "\n",
       "    .dataframe thead th {\n",
       "        text-align: right;\n",
       "    }\n",
       "</style>\n",
       "<table border=\"1\" class=\"dataframe\">\n",
       "  <thead>\n",
       "    <tr style=\"text-align: right;\">\n",
       "      <th></th>\n",
       "      <th>coef</th>\n",
       "      <th>name</th>\n",
       "    </tr>\n",
       "  </thead>\n",
       "  <tbody>\n",
       "    <tr>\n",
       "      <th>8</th>\n",
       "      <td>37.365596</td>\n",
       "      <td>gr_liv_area</td>\n",
       "    </tr>\n",
       "    <tr>\n",
       "      <th>6</th>\n",
       "      <td>3.266518</td>\n",
       "      <td>total_bsmt_sf</td>\n",
       "    </tr>\n",
       "  </tbody>\n",
       "</table>\n",
       "</div>"
      ],
      "text/plain": [
       "        coef           name\n",
       "8  37.365596    gr_liv_area\n",
       "6   3.266518  total_bsmt_sf"
      ]
     },
     "execution_count": 54,
     "metadata": {},
     "output_type": "execute_result"
    }
   ],
   "source": [
    "other_coefficients_2"
   ]
  },
  {
   "cell_type": "code",
   "execution_count": 55,
   "id": "5ee1c20d-9b43-4c34-89b1-8b07c553cc8d",
   "metadata": {},
   "outputs": [
    {
     "data": {
      "image/png": "[encoded data removed]",
      "text/plain": [
       "<Figure size 1080x720 with 1 Axes>"
      ]
     },
     "metadata": {
      "needs_background": "light"
     },
     "output_type": "display_data"
    }
   ],
   "source": [
    "plt.figure(figsize = (15,10))\n",
    "sns.barplot(data = other_coefficients_2,\n",
    "            x = 'name',\n",
    "            y = 'coef')\n",
    "\n",
    "plt.ylabel('Coefficient')\n",
    "plt.xlabel('Feature')\n",
    "plt.title('Area Features')\n",
    "\n",
    "plt.savefig('Area')"
   ]
  },
  {
   "cell_type": "code",
   "execution_count": 56,
   "id": "bc2dc0cc-b2b9-4a83-b63f-f8b25eec1c65",
   "metadata": {},
   "outputs": [
    {
     "data": {
      "text/html": [
       "<div>\n",
       "<style scoped>\n",
       "    .dataframe tbody tr th:only-of-type {\n",
       "        vertical-align: middle;\n",
       "    }\n",
       "\n",
       "    .dataframe tbody tr th {\n",
       "        vertical-align: top;\n",
       "    }\n",
       "\n",
       "    .dataframe thead th {\n",
       "        text-align: right;\n",
       "    }\n",
       "</style>\n",
       "<table border=\"1\" class=\"dataframe\">\n",
       "  <thead>\n",
       "    <tr style=\"text-align: right;\">\n",
       "      <th></th>\n",
       "      <th>coef</th>\n",
       "      <th>name</th>\n",
       "    </tr>\n",
       "  </thead>\n",
       "  <tbody>\n",
       "    <tr>\n",
       "      <th>8</th>\n",
       "      <td>37.365596</td>\n",
       "      <td>gr_liv_area</td>\n",
       "    </tr>\n",
       "    <tr>\n",
       "      <th>6</th>\n",
       "      <td>3.266518</td>\n",
       "      <td>total_bsmt_sf</td>\n",
       "    </tr>\n",
       "  </tbody>\n",
       "</table>\n",
       "</div>"
      ],
      "text/plain": [
       "        coef           name\n",
       "8  37.365596    gr_liv_area\n",
       "6   3.266518  total_bsmt_sf"
      ]
     },
     "execution_count": 56,
     "metadata": {},
     "output_type": "execute_result"
    }
   ],
   "source": [
    "other_coefficients_2"
   ]
  },
  {
   "cell_type": "code",
   "execution_count": 57,
   "id": "b2cb9f0e-abc9-48ba-af55-dcf6413abda5",
   "metadata": {},
   "outputs": [
    {
     "data": {
      "text/html": [
       "<div>\n",
       "<style scoped>\n",
       "    .dataframe tbody tr th:only-of-type {\n",
       "        vertical-align: middle;\n",
       "    }\n",
       "\n",
       "    .dataframe tbody tr th {\n",
       "        vertical-align: top;\n",
       "    }\n",
       "\n",
       "    .dataframe thead th {\n",
       "        text-align: right;\n",
       "    }\n",
       "</style>\n",
       "<table border=\"1\" class=\"dataframe\">\n",
       "  <thead>\n",
       "    <tr style=\"text-align: right;\">\n",
       "      <th></th>\n",
       "      <th>coef</th>\n",
       "      <th>name</th>\n",
       "    </tr>\n",
       "  </thead>\n",
       "  <tbody>\n",
       "    <tr>\n",
       "      <th>0</th>\n",
       "      <td>10558.853343</td>\n",
       "      <td>overall_qual</td>\n",
       "    </tr>\n",
       "    <tr>\n",
       "      <th>1</th>\n",
       "      <td>88.559958</td>\n",
       "      <td>year_built</td>\n",
       "    </tr>\n",
       "    <tr>\n",
       "      <th>2</th>\n",
       "      <td>138.690643</td>\n",
       "      <td>year_remod/add</td>\n",
       "    </tr>\n",
       "    <tr>\n",
       "      <th>3</th>\n",
       "      <td>24.600012</td>\n",
       "      <td>mas_vnr_area</td>\n",
       "    </tr>\n",
       "    <tr>\n",
       "      <th>4</th>\n",
       "      <td>10886.395267</td>\n",
       "      <td>exter_qual</td>\n",
       "    </tr>\n",
       "    <tr>\n",
       "      <th>5</th>\n",
       "      <td>6874.123449</td>\n",
       "      <td>bsmt_qual</td>\n",
       "    </tr>\n",
       "    <tr>\n",
       "      <th>6</th>\n",
       "      <td>3.266518</td>\n",
       "      <td>total_bsmt_sf</td>\n",
       "    </tr>\n",
       "    <tr>\n",
       "      <th>7</th>\n",
       "      <td>14.219522</td>\n",
       "      <td>1st_flr_sf</td>\n",
       "    </tr>\n",
       "    <tr>\n",
       "      <th>8</th>\n",
       "      <td>37.365596</td>\n",
       "      <td>gr_liv_area</td>\n",
       "    </tr>\n",
       "    <tr>\n",
       "      <th>9</th>\n",
       "      <td>11019.570540</td>\n",
       "      <td>kitchen_qual</td>\n",
       "    </tr>\n",
       "    <tr>\n",
       "      <th>10</th>\n",
       "      <td>1.855022</td>\n",
       "      <td>garage_score</td>\n",
       "    </tr>\n",
       "  </tbody>\n",
       "</table>\n",
       "</div>"
      ],
      "text/plain": [
       "            coef            name\n",
       "0   10558.853343    overall_qual\n",
       "1      88.559958      year_built\n",
       "2     138.690643  year_remod/add\n",
       "3      24.600012    mas_vnr_area\n",
       "4   10886.395267      exter_qual\n",
       "5    6874.123449       bsmt_qual\n",
       "6       3.266518   total_bsmt_sf\n",
       "7      14.219522      1st_flr_sf\n",
       "8      37.365596     gr_liv_area\n",
       "9   11019.570540    kitchen_qual\n",
       "10      1.855022    garage_score"
      ]
     },
     "execution_count": 57,
     "metadata": {},
     "output_type": "execute_result"
    }
   ],
   "source": [
    "other_coefficients"
   ]
  },
  {
   "cell_type": "code",
   "execution_count": 58,
   "id": "a6a667bc-be76-42bc-bd94-cf72ea11a002",
   "metadata": {},
   "outputs": [
    {
     "data": {
      "image/png": "[encoded data removed]",
      "text/plain": [
       "<Figure size 1080x720 with 1 Axes>"
      ]
     },
     "metadata": {
      "needs_background": "light"
     },
     "output_type": "display_data"
    }
   ],
   "source": [
    "plt.figure(figsize = (15,10))\n",
    "sns.barplot(data = other_coefficients,\n",
    "            x = 'name',\n",
    "            y = 'coef')\n",
    "\n",
    "plt.ylabel('Coefficient')\n",
    "plt.xlabel('Feature')\n",
    "plt.title('State Features')\n",
    "\n",
    "plt.savefig('state_features')"
   ]
  },
  {
   "cell_type": "code",
   "execution_count": 59,
   "id": "4415edce-1244-4ccc-a41a-3ec8be893dac",
   "metadata": {},
   "outputs": [],
   "source": [
    "scores = cross_val_score(ridge, X_train, y_train, cv=5)"
   ]
  },
  {
   "cell_type": "code",
   "execution_count": 60,
   "id": "ccddc512-477b-43b7-b52e-4e1ef20b4e98",
   "metadata": {},
   "outputs": [
    {
     "data": {
      "text/plain": [
       "0.8244030697402728"
      ]
     },
     "execution_count": 60,
     "metadata": {},
     "output_type": "execute_result"
    }
   ],
   "source": [
    "scores.mean()"
   ]
  },
  {
   "cell_type": "code",
   "execution_count": 61,
   "id": "438d4197-f5cd-417e-b4c1-3ec81640a562",
   "metadata": {},
   "outputs": [],
   "source": [
    "predicts = ridge.predict(X_test)"
   ]
  },
  {
   "cell_type": "code",
   "execution_count": 62,
   "id": "4acfcd7c-4e60-48f9-ac50-4239e648504c",
   "metadata": {},
   "outputs": [
    {
     "data": {
      "text/plain": [
       "0.8643963644186137"
      ]
     },
     "execution_count": 62,
     "metadata": {},
     "output_type": "execute_result"
    }
   ],
   "source": [
    "r2_score(y_test,predicts)"
   ]
  },
  {
   "cell_type": "code",
   "execution_count": 63,
   "id": "4a932646-816d-4b6a-9dc4-e8f221f85830",
   "metadata": {},
   "outputs": [
    {
     "data": {
      "text/plain": [
       "28384.698374851258"
      ]
     },
     "execution_count": 63,
     "metadata": {},
     "output_type": "execute_result"
    }
   ],
   "source": [
    "mean_squared_error(y_test,predicts,squared=False)"
   ]
  },
  {
   "cell_type": "code",
   "execution_count": 64,
   "id": "ac68c000-85ef-4b4c-8a03-b148ed32f9aa",
   "metadata": {},
   "outputs": [
    {
     "data": {
      "text/plain": [
       "805691101.8312837"
      ]
     },
     "execution_count": 64,
     "metadata": {},
     "output_type": "execute_result"
    }
   ],
   "source": [
    "mean_squared_error(y_test,predicts)"
   ]
  },
  {
   "cell_type": "markdown",
   "id": "00d59cb9-7371-49f4-8733-64cb6ea47ed0",
   "metadata": {
    "tags": [],
    "toc-hr-collapsed": true
   },
   "source": [
    "# Lasso"
   ]
  },
  {
   "cell_type": "code",
   "execution_count": 65,
   "id": "b5501982-f1b9-44c1-b067-89203aba618b",
   "metadata": {},
   "outputs": [],
   "source": [
    "lasso_alphas = np.logspace(-3,0,100)\n",
    "lasso_cv = LassoCV(alphas=lasso_alphas,\n",
    "                  cv = 5,\n",
    "                  n_jobs=-1,\n",
    "                  max_iter = 100_000)\n",
    "\n",
    "lasso_cv.fit(X_train, y_train);"
   ]
  },
  {
   "cell_type": "code",
   "execution_count": 66,
   "id": "904a087d-3968-440d-bba8-04d7b7aa3ce1",
   "metadata": {},
   "outputs": [
    {
     "data": {
      "text/plain": [
       "1.0"
      ]
     },
     "execution_count": 66,
     "metadata": {},
     "output_type": "execute_result"
    }
   ],
   "source": [
    "lasso_cv.alpha_"
   ]
  },
  {
   "cell_type": "code",
   "execution_count": 67,
   "id": "217e6c4e-339f-47bb-95dc-895e39aca6ed",
   "metadata": {},
   "outputs": [
    {
     "data": {
      "text/plain": [
       "0.8424384113257462"
      ]
     },
     "execution_count": 67,
     "metadata": {},
     "output_type": "execute_result"
    }
   ],
   "source": [
    "lasso_cv.score(X_train, y_train)"
   ]
  },
  {
   "cell_type": "code",
   "execution_count": 68,
   "id": "1e9ac886-c085-49e9-a040-55f863e2ccde",
   "metadata": {},
   "outputs": [
    {
     "data": {
      "text/plain": [
       "0.8635506977511423"
      ]
     },
     "execution_count": 68,
     "metadata": {},
     "output_type": "execute_result"
    }
   ],
   "source": [
    "lasso_cv.score(X_test, y_test)"
   ]
  },
  {
   "cell_type": "code",
   "execution_count": 69,
   "id": "7e8ecd61-1002-4ad9-83fc-5e7efced59cf",
   "metadata": {},
   "outputs": [
    {
     "data": {
      "text/plain": [
       "0.8635506977511423"
      ]
     },
     "execution_count": 69,
     "metadata": {},
     "output_type": "execute_result"
    }
   ],
   "source": [
    "predicts = lasso_cv.predict(X_test)\n",
    "r2_score(y_test,predicts)"
   ]
  },
  {
   "cell_type": "code",
   "execution_count": 70,
   "id": "683d0ac8-af0c-4a29-9ff2-e9a9c2073611",
   "metadata": {},
   "outputs": [
    {
     "data": {
      "text/plain": [
       "28473.068739401966"
      ]
     },
     "execution_count": 70,
     "metadata": {},
     "output_type": "execute_result"
    }
   ],
   "source": [
    "mean_squared_error(y_test,predicts,squared=False)"
   ]
  },
  {
   "cell_type": "markdown",
   "id": "b49e2d48-84f2-49d7-8e68-ccaf4bb08d19",
   "metadata": {
    "tags": [],
    "toc-hr-collapsed": true
   },
   "source": [
    "# Linear"
   ]
  },
  {
   "cell_type": "code",
   "execution_count": 71,
   "id": "fde971ed-3b68-47dc-874c-6d59c7e65728",
   "metadata": {},
   "outputs": [],
   "source": [
    "linreg = LinearRegression()"
   ]
  },
  {
   "cell_type": "code",
   "execution_count": 72,
   "id": "c4fe597d-092f-4c7b-b6b9-24575151db72",
   "metadata": {},
   "outputs": [
    {
     "data": {
      "text/plain": [
       "LinearRegression()"
      ]
     },
     "execution_count": 72,
     "metadata": {},
     "output_type": "execute_result"
    }
   ],
   "source": [
    "linreg.fit(X_train, y_train)"
   ]
  },
  {
   "cell_type": "code",
   "execution_count": 73,
   "id": "668b3b1c-42a9-4b3d-bcd3-1ea225b40d53",
   "metadata": {},
   "outputs": [
    {
     "data": {
      "text/plain": [
       "0.8424391791307976"
      ]
     },
     "execution_count": 73,
     "metadata": {},
     "output_type": "execute_result"
    }
   ],
   "source": [
    "linreg.score(X_train, y_train)"
   ]
  },
  {
   "cell_type": "code",
   "execution_count": 74,
   "id": "2a60f9f1-99a5-40cf-b882-907470da3401",
   "metadata": {},
   "outputs": [
    {
     "data": {
      "text/plain": [
       "0.8634806205592892"
      ]
     },
     "execution_count": 74,
     "metadata": {},
     "output_type": "execute_result"
    }
   ],
   "source": [
    "linreg.score(X_test, y_test)"
   ]
  },
  {
   "cell_type": "code",
   "execution_count": 75,
   "id": "1939b47a-a806-44ee-afe5-b87d4fc07f0c",
   "metadata": {},
   "outputs": [
    {
     "data": {
      "text/plain": [
       "28480.37935421282"
      ]
     },
     "execution_count": 75,
     "metadata": {},
     "output_type": "execute_result"
    }
   ],
   "source": [
    "mean_squared_error(y_test, linreg.predict(X_test),squared=False)"
   ]
  },
  {
   "cell_type": "code",
   "execution_count": 77,
   "id": "e31518f0-82ee-4895-9c96-d6a7c8bc2a93",
   "metadata": {},
   "outputs": [
    {
     "data": {
      "text/plain": [
       "[('overall_qual', 10473.291639488461),\n",
       " ('year_built', 79.9295482732932),\n",
       " ('year_remod/add', 137.45247188496307),\n",
       " ('mas_vnr_area', 24.451957224250542),\n",
       " ('exter_qual', 10575.711395593822),\n",
       " ('bsmt_qual', 7021.4962632434535),\n",
       " ('total_bsmt_sf', 3.4168080423089897),\n",
       " ('1st_flr_sf', 13.729240330216205),\n",
       " ('gr_liv_area', 37.278795852453825),\n",
       " ('kitchen_qual', 10914.708160136173),\n",
       " ('garage_score', 1.860077998482449),\n",
       " ('neighborhood_Blmngtn', -21839.313446877375),\n",
       " ('neighborhood_Blueste', -26840.42723472683),\n",
       " ('neighborhood_BrDale', -33803.260354693746),\n",
       " ('neighborhood_BrkSide', -3252.260548491978),\n",
       " ('neighborhood_ClearCr', 17989.020250776895),\n",
       " ('neighborhood_CollgCr', -7212.241256950574),\n",
       " ('neighborhood_Crawfor', 21752.243493478127),\n",
       " ('neighborhood_Edwards', -15571.905526027074),\n",
       " ('neighborhood_Gilbert', -5220.564931529876),\n",
       " ('neighborhood_Greens', -26860.320223113496),\n",
       " ('neighborhood_GrnHill', 95931.61600003064),\n",
       " ('neighborhood_IDOTRR', -16113.773365606949),\n",
       " ('neighborhood_Landmrk', -23889.280122654596),\n",
       " ('neighborhood_MeadowV', -18260.86682910468),\n",
       " ('neighborhood_Mitchel', -4773.130906205378),\n",
       " ('neighborhood_NAmes', -2609.5175752326154),\n",
       " ('neighborhood_NPkVill', -20037.430418298634),\n",
       " ('neighborhood_NWAmes', -6218.3821796701195),\n",
       " ('neighborhood_NoRidge', 29772.65274947804),\n",
       " ('neighborhood_NridgHt', 35451.44958663525),\n",
       " ('neighborhood_OldTown', -16832.53521139034),\n",
       " ('neighborhood_SWISU', -10028.401037754174),\n",
       " ('neighborhood_Sawyer', -2311.8579039576725),\n",
       " ('neighborhood_SawyerW', -14403.849683750592),\n",
       " ('neighborhood_Somerst', -7147.752059399798),\n",
       " ('neighborhood_StoneBr', 55632.47022903444),\n",
       " ('neighborhood_Timber', 12809.065637043337),\n",
       " ('neighborhood_Veenker', 13888.552868959843)]"
      ]
     },
     "execution_count": 77,
     "metadata": {},
     "output_type": "execute_result"
    }
   ],
   "source": [
    "list(zip(X_train.columns,linreg.coef_))"
   ]
  },
  {
   "cell_type": "code",
   "execution_count": null,
   "id": "c87c1072-38e9-48ab-a336-0cd6be167db6",
   "metadata": {},
   "outputs": [],
   "source": []
  }
 ],
 "metadata": {
  "kernelspec": {
   "display_name": "Python 3",
   "language": "python",
   "name": "python3"
  },
  "language_info": {
   "codemirror_mode": {
    "name": "ipython",
    "version": 3
   },
   "file_extension": ".py",
   "mimetype": "text/x-python",
   "name": "python",
   "nbconvert_exporter": "python",
   "pygments_lexer": "ipython3",
   "version": "3.8.8"
  }
 },
 "nbformat": 4,
 "nbformat_minor": 5
}
