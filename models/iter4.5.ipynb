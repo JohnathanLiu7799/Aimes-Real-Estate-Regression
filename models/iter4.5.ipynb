{
 "cells": [
  {
   "cell_type": "markdown",
   "id": "5c9a0b4b-c1b1-4225-a949-182cb815b218",
   "metadata": {
    "tags": []
   },
   "source": [
    "# Import Libraries and Data"
   ]
  },
  {
   "cell_type": "code",
   "execution_count": 26,
   "id": "121668cf-3712-467f-8f1e-4fa6c7b02ca8",
   "metadata": {},
   "outputs": [],
   "source": [
    "import helper"
   ]
  },
  {
   "cell_type": "code",
   "execution_count": 27,
   "id": "59148745-7eaf-445e-aea3-a6012e6f9e6f",
   "metadata": {},
   "outputs": [],
   "source": [
    "import pandas as pd\n",
    "import numpy as np\n",
    "import matplotlib.pyplot as plt\n",
    "import seaborn as sns"
   ]
  },
  {
   "cell_type": "code",
   "execution_count": 28,
   "id": "4bfc6eeb-fcc8-4270-8868-415b0d502fc1",
   "metadata": {},
   "outputs": [],
   "source": [
    "real_estate = pd.read_csv('../datasets/processed_train.csv')"
   ]
  },
  {
   "cell_type": "code",
   "execution_count": 29,
   "id": "a4df360a-79e0-4014-b184-82b79737dd35",
   "metadata": {},
   "outputs": [],
   "source": [
    "def simple_interaction_feature(df, list_of_old_features):\n",
    "    new_feature_val = 1\n",
    "    for feature in list_of_old_features:\n",
    "        new_feature_val = new_feature_val * df[feature]\n",
    "    return new_feature_val"
   ]
  },
  {
   "cell_type": "code",
   "execution_count": 30,
   "id": "4c52e0c3-1044-4334-8f8b-795f4e9b248d",
   "metadata": {},
   "outputs": [],
   "source": [
    "real_estate['garage_score'] = simple_interaction_feature(real_estate, ['garage_area','garage_qual','garage_cars','garage_cond'])"
   ]
  },
  {
   "cell_type": "code",
   "execution_count": 31,
   "id": "a4cb6a2a-cdec-4562-8fdf-a801f93c1e7a",
   "metadata": {},
   "outputs": [],
   "source": [
    "real_estate = real_estate[['overall_qual', 'year_built', 'year_remod/add', 'mas_vnr_area',\n",
    "       'exter_qual', 'bsmt_qual', 'total_bsmt_sf', '1st_flr_sf', 'gr_liv_area',\n",
    "       'kitchen_qual', 'saleprice', 'garage_score']]"
   ]
  },
  {
   "cell_type": "code",
   "execution_count": 32,
   "id": "edc65a7c-73f0-4086-89d5-7ea598011f0c",
   "metadata": {},
   "outputs": [],
   "source": [
    "dummy_neighborhood = pd.read_csv('../datasets/dummies/neighborhood_dummies.csv')"
   ]
  },
  {
   "cell_type": "code",
   "execution_count": 33,
   "id": "7e0b09e9-a648-4202-9461-a5b010b19994",
   "metadata": {},
   "outputs": [],
   "source": [
    "real_estate = pd.concat([real_estate,dummy_neighborhood],axis=1)"
   ]
  },
  {
   "cell_type": "code",
   "execution_count": 34,
   "id": "b47a35c8-1b38-4b68-be5e-e5fa48ed8c67",
   "metadata": {},
   "outputs": [],
   "source": [
    "from sklearn.model_selection import cross_val_score\n",
    "from sklearn.metrics import r2_score\n",
    "from sklearn.metrics import mean_absolute_error, mean_squared_error\n",
    "from sklearn.linear_model import Lasso, Ridge, LassoCV, RidgeCV"
   ]
  },
  {
   "cell_type": "code",
   "execution_count": 35,
   "id": "0f6451ad-35e7-484a-a139-d05c0fa57177",
   "metadata": {},
   "outputs": [],
   "source": [
    "X = real_estate.drop(columns=['saleprice'])\n",
    "y = real_estate['saleprice']"
   ]
  },
  {
   "cell_type": "code",
   "execution_count": 36,
   "id": "28fbb87d-cf1f-45cc-90c3-86e3fa0c5395",
   "metadata": {},
   "outputs": [],
   "source": [
    "from sklearn.model_selection import train_test_split"
   ]
  },
  {
   "cell_type": "code",
   "execution_count": 37,
   "id": "c6982249-dce9-4fb3-8918-4dafd2b5fb0a",
   "metadata": {},
   "outputs": [],
   "source": [
    "X_train, X_test, y_train, y_test = train_test_split(X,y,\n",
    "                                                   random_state=42,\n",
    "                                                   test_size = .2)"
   ]
  },
  {
   "cell_type": "code",
   "execution_count": 38,
   "id": "caba0ccd-4671-4852-b33a-735a0856fa88",
   "metadata": {},
   "outputs": [],
   "source": [
    "from sklearn.preprocessing import StandardScaler"
   ]
  },
  {
   "cell_type": "code",
   "execution_count": 39,
   "id": "2def33e2-868e-495a-a3ae-077cbaf08154",
   "metadata": {},
   "outputs": [],
   "source": [
    "ss = StandardScaler()\n",
    "X_train = pd.DataFrame(ss.fit_transform(X_train),)"
   ]
  },
  {
   "cell_type": "code",
   "execution_count": 40,
   "id": "30025a2b-626d-4def-a2b8-df097188abd8",
   "metadata": {},
   "outputs": [
    {
     "data": {
      "text/html": [
       "<div>\n",
       "<style scoped>\n",
       "    .dataframe tbody tr th:only-of-type {\n",
       "        vertical-align: middle;\n",
       "    }\n",
       "\n",
       "    .dataframe tbody tr th {\n",
       "        vertical-align: top;\n",
       "    }\n",
       "\n",
       "    .dataframe thead th {\n",
       "        text-align: right;\n",
       "    }\n",
       "</style>\n",
       "<table border=\"1\" class=\"dataframe\">\n",
       "  <thead>\n",
       "    <tr style=\"text-align: right;\">\n",
       "      <th></th>\n",
       "      <th>0</th>\n",
       "      <th>1</th>\n",
       "      <th>2</th>\n",
       "      <th>3</th>\n",
       "      <th>4</th>\n",
       "      <th>5</th>\n",
       "      <th>6</th>\n",
       "      <th>7</th>\n",
       "      <th>8</th>\n",
       "      <th>9</th>\n",
       "      <th>...</th>\n",
       "      <th>29</th>\n",
       "      <th>30</th>\n",
       "      <th>31</th>\n",
       "      <th>32</th>\n",
       "      <th>33</th>\n",
       "      <th>34</th>\n",
       "      <th>35</th>\n",
       "      <th>36</th>\n",
       "      <th>37</th>\n",
       "      <th>38</th>\n",
       "    </tr>\n",
       "  </thead>\n",
       "  <tbody>\n",
       "    <tr>\n",
       "      <th>0</th>\n",
       "      <td>-0.081747</td>\n",
       "      <td>1.097701</td>\n",
       "      <td>0.990598</td>\n",
       "      <td>0.807516</td>\n",
       "      <td>1.016168</td>\n",
       "      <td>0.563143</td>\n",
       "      <td>0.656487</td>\n",
       "      <td>0.478981</td>\n",
       "      <td>-0.279707</td>\n",
       "      <td>0.723473</td>\n",
       "      <td>...</td>\n",
       "      <td>-0.160128</td>\n",
       "      <td>4.010403</td>\n",
       "      <td>-0.288484</td>\n",
       "      <td>-0.119264</td>\n",
       "      <td>-0.240966</td>\n",
       "      <td>-0.212725</td>\n",
       "      <td>-0.269437</td>\n",
       "      <td>-0.136505</td>\n",
       "      <td>-0.147671</td>\n",
       "      <td>-0.085855</td>\n",
       "    </tr>\n",
       "    <tr>\n",
       "      <th>1</th>\n",
       "      <td>1.322072</td>\n",
       "      <td>1.130806</td>\n",
       "      <td>1.038255</td>\n",
       "      <td>1.578313</td>\n",
       "      <td>1.016168</td>\n",
       "      <td>0.563143</td>\n",
       "      <td>1.929778</td>\n",
       "      <td>2.000532</td>\n",
       "      <td>0.936761</td>\n",
       "      <td>0.723473</td>\n",
       "      <td>...</td>\n",
       "      <td>-0.160128</td>\n",
       "      <td>4.010403</td>\n",
       "      <td>-0.288484</td>\n",
       "      <td>-0.119264</td>\n",
       "      <td>-0.240966</td>\n",
       "      <td>-0.212725</td>\n",
       "      <td>-0.269437</td>\n",
       "      <td>-0.136505</td>\n",
       "      <td>-0.147671</td>\n",
       "      <td>-0.085855</td>\n",
       "    </tr>\n",
       "    <tr>\n",
       "      <th>2</th>\n",
       "      <td>-0.081747</td>\n",
       "      <td>0.170771</td>\n",
       "      <td>-0.343799</td>\n",
       "      <td>-0.562790</td>\n",
       "      <td>-0.693079</td>\n",
       "      <td>0.563143</td>\n",
       "      <td>0.404919</td>\n",
       "      <td>0.474033</td>\n",
       "      <td>-0.283663</td>\n",
       "      <td>-0.782232</td>\n",
       "      <td>...</td>\n",
       "      <td>-0.160128</td>\n",
       "      <td>-0.249351</td>\n",
       "      <td>-0.288484</td>\n",
       "      <td>-0.119264</td>\n",
       "      <td>-0.240966</td>\n",
       "      <td>-0.212725</td>\n",
       "      <td>-0.269437</td>\n",
       "      <td>-0.136505</td>\n",
       "      <td>-0.147671</td>\n",
       "      <td>-0.085855</td>\n",
       "    </tr>\n",
       "    <tr>\n",
       "      <th>3</th>\n",
       "      <td>1.322072</td>\n",
       "      <td>0.865969</td>\n",
       "      <td>0.656999</td>\n",
       "      <td>3.148455</td>\n",
       "      <td>1.016168</td>\n",
       "      <td>0.563143</td>\n",
       "      <td>0.177624</td>\n",
       "      <td>0.001486</td>\n",
       "      <td>1.510380</td>\n",
       "      <td>0.723473</td>\n",
       "      <td>...</td>\n",
       "      <td>6.244998</td>\n",
       "      <td>-0.249351</td>\n",
       "      <td>-0.288484</td>\n",
       "      <td>-0.119264</td>\n",
       "      <td>-0.240966</td>\n",
       "      <td>-0.212725</td>\n",
       "      <td>-0.269437</td>\n",
       "      <td>-0.136505</td>\n",
       "      <td>-0.147671</td>\n",
       "      <td>-0.085855</td>\n",
       "    </tr>\n",
       "    <tr>\n",
       "      <th>4</th>\n",
       "      <td>-0.081747</td>\n",
       "      <td>0.137667</td>\n",
       "      <td>0.466370</td>\n",
       "      <td>1.492669</td>\n",
       "      <td>1.016168</td>\n",
       "      <td>-0.561771</td>\n",
       "      <td>-1.175110</td>\n",
       "      <td>-0.174173</td>\n",
       "      <td>0.703357</td>\n",
       "      <td>-0.782232</td>\n",
       "      <td>...</td>\n",
       "      <td>-0.160128</td>\n",
       "      <td>-0.249351</td>\n",
       "      <td>-0.288484</td>\n",
       "      <td>-0.119264</td>\n",
       "      <td>-0.240966</td>\n",
       "      <td>-0.212725</td>\n",
       "      <td>-0.269437</td>\n",
       "      <td>-0.136505</td>\n",
       "      <td>-0.147671</td>\n",
       "      <td>11.647603</td>\n",
       "    </tr>\n",
       "    <tr>\n",
       "      <th>...</th>\n",
       "      <td>...</td>\n",
       "      <td>...</td>\n",
       "      <td>...</td>\n",
       "      <td>...</td>\n",
       "      <td>...</td>\n",
       "      <td>...</td>\n",
       "      <td>...</td>\n",
       "      <td>...</td>\n",
       "      <td>...</td>\n",
       "      <td>...</td>\n",
       "      <td>...</td>\n",
       "      <td>...</td>\n",
       "      <td>...</td>\n",
       "      <td>...</td>\n",
       "      <td>...</td>\n",
       "      <td>...</td>\n",
       "      <td>...</td>\n",
       "      <td>...</td>\n",
       "      <td>...</td>\n",
       "      <td>...</td>\n",
       "      <td>...</td>\n",
       "    </tr>\n",
       "    <tr>\n",
       "      <th>1635</th>\n",
       "      <td>1.322072</td>\n",
       "      <td>1.163910</td>\n",
       "      <td>1.085912</td>\n",
       "      <td>0.122363</td>\n",
       "      <td>2.725415</td>\n",
       "      <td>1.688058</td>\n",
       "      <td>-0.314480</td>\n",
       "      <td>-0.510646</td>\n",
       "      <td>1.187967</td>\n",
       "      <td>2.229178</td>\n",
       "      <td>...</td>\n",
       "      <td>-0.160128</td>\n",
       "      <td>4.010403</td>\n",
       "      <td>-0.288484</td>\n",
       "      <td>-0.119264</td>\n",
       "      <td>-0.240966</td>\n",
       "      <td>-0.212725</td>\n",
       "      <td>-0.269437</td>\n",
       "      <td>-0.136505</td>\n",
       "      <td>-0.147671</td>\n",
       "      <td>-0.085855</td>\n",
       "    </tr>\n",
       "    <tr>\n",
       "      <th>1636</th>\n",
       "      <td>-0.081747</td>\n",
       "      <td>-0.524426</td>\n",
       "      <td>-1.344596</td>\n",
       "      <td>-0.140279</td>\n",
       "      <td>-0.693079</td>\n",
       "      <td>0.563143</td>\n",
       "      <td>0.298995</td>\n",
       "      <td>0.078182</td>\n",
       "      <td>-0.600142</td>\n",
       "      <td>-0.782232</td>\n",
       "      <td>...</td>\n",
       "      <td>-0.160128</td>\n",
       "      <td>-0.249351</td>\n",
       "      <td>-0.288484</td>\n",
       "      <td>-0.119264</td>\n",
       "      <td>-0.240966</td>\n",
       "      <td>-0.212725</td>\n",
       "      <td>-0.269437</td>\n",
       "      <td>-0.136505</td>\n",
       "      <td>-0.147671</td>\n",
       "      <td>-0.085855</td>\n",
       "    </tr>\n",
       "    <tr>\n",
       "      <th>1637</th>\n",
       "      <td>-0.081747</td>\n",
       "      <td>0.071458</td>\n",
       "      <td>0.704656</td>\n",
       "      <td>0.002461</td>\n",
       "      <td>-0.693079</td>\n",
       "      <td>-0.561771</td>\n",
       "      <td>-0.045257</td>\n",
       "      <td>0.357752</td>\n",
       "      <td>-0.376629</td>\n",
       "      <td>0.723473</td>\n",
       "      <td>...</td>\n",
       "      <td>-0.160128</td>\n",
       "      <td>-0.249351</td>\n",
       "      <td>-0.288484</td>\n",
       "      <td>-0.119264</td>\n",
       "      <td>-0.240966</td>\n",
       "      <td>-0.212725</td>\n",
       "      <td>-0.269437</td>\n",
       "      <td>-0.136505</td>\n",
       "      <td>-0.147671</td>\n",
       "      <td>-0.085855</td>\n",
       "    </tr>\n",
       "    <tr>\n",
       "      <th>1638</th>\n",
       "      <td>-0.081747</td>\n",
       "      <td>-0.060961</td>\n",
       "      <td>-0.677398</td>\n",
       "      <td>0.162330</td>\n",
       "      <td>-0.693079</td>\n",
       "      <td>-0.561771</td>\n",
       "      <td>-1.274413</td>\n",
       "      <td>-1.685828</td>\n",
       "      <td>-1.013543</td>\n",
       "      <td>-0.782232</td>\n",
       "      <td>...</td>\n",
       "      <td>-0.160128</td>\n",
       "      <td>-0.249351</td>\n",
       "      <td>-0.288484</td>\n",
       "      <td>-0.119264</td>\n",
       "      <td>-0.240966</td>\n",
       "      <td>-0.212725</td>\n",
       "      <td>-0.269437</td>\n",
       "      <td>-0.136505</td>\n",
       "      <td>-0.147671</td>\n",
       "      <td>-0.085855</td>\n",
       "    </tr>\n",
       "    <tr>\n",
       "      <th>1639</th>\n",
       "      <td>0.620163</td>\n",
       "      <td>0.932178</td>\n",
       "      <td>0.752313</td>\n",
       "      <td>0.830355</td>\n",
       "      <td>1.016168</td>\n",
       "      <td>0.563143</td>\n",
       "      <td>1.025013</td>\n",
       "      <td>0.892150</td>\n",
       "      <td>0.050619</td>\n",
       "      <td>0.723473</td>\n",
       "      <td>...</td>\n",
       "      <td>-0.160128</td>\n",
       "      <td>-0.249351</td>\n",
       "      <td>-0.288484</td>\n",
       "      <td>-0.119264</td>\n",
       "      <td>-0.240966</td>\n",
       "      <td>-0.212725</td>\n",
       "      <td>-0.269437</td>\n",
       "      <td>-0.136505</td>\n",
       "      <td>-0.147671</td>\n",
       "      <td>-0.085855</td>\n",
       "    </tr>\n",
       "  </tbody>\n",
       "</table>\n",
       "<p>1640 rows × 39 columns</p>\n",
       "</div>"
      ],
      "text/plain": [
       "            0         1         2         3         4         5         6   \\\n",
       "0    -0.081747  1.097701  0.990598  0.807516  1.016168  0.563143  0.656487   \n",
       "1     1.322072  1.130806  1.038255  1.578313  1.016168  0.563143  1.929778   \n",
       "2    -0.081747  0.170771 -0.343799 -0.562790 -0.693079  0.563143  0.404919   \n",
       "3     1.322072  0.865969  0.656999  3.148455  1.016168  0.563143  0.177624   \n",
       "4    -0.081747  0.137667  0.466370  1.492669  1.016168 -0.561771 -1.175110   \n",
       "...        ...       ...       ...       ...       ...       ...       ...   \n",
       "1635  1.322072  1.163910  1.085912  0.122363  2.725415  1.688058 -0.314480   \n",
       "1636 -0.081747 -0.524426 -1.344596 -0.140279 -0.693079  0.563143  0.298995   \n",
       "1637 -0.081747  0.071458  0.704656  0.002461 -0.693079 -0.561771 -0.045257   \n",
       "1638 -0.081747 -0.060961 -0.677398  0.162330 -0.693079 -0.561771 -1.274413   \n",
       "1639  0.620163  0.932178  0.752313  0.830355  1.016168  0.563143  1.025013   \n",
       "\n",
       "            7         8         9   ...        29        30        31  \\\n",
       "0     0.478981 -0.279707  0.723473  ... -0.160128  4.010403 -0.288484   \n",
       "1     2.000532  0.936761  0.723473  ... -0.160128  4.010403 -0.288484   \n",
       "2     0.474033 -0.283663 -0.782232  ... -0.160128 -0.249351 -0.288484   \n",
       "3     0.001486  1.510380  0.723473  ...  6.244998 -0.249351 -0.288484   \n",
       "4    -0.174173  0.703357 -0.782232  ... -0.160128 -0.249351 -0.288484   \n",
       "...        ...       ...       ...  ...       ...       ...       ...   \n",
       "1635 -0.510646  1.187967  2.229178  ... -0.160128  4.010403 -0.288484   \n",
       "1636  0.078182 -0.600142 -0.782232  ... -0.160128 -0.249351 -0.288484   \n",
       "1637  0.357752 -0.376629  0.723473  ... -0.160128 -0.249351 -0.288484   \n",
       "1638 -1.685828 -1.013543 -0.782232  ... -0.160128 -0.249351 -0.288484   \n",
       "1639  0.892150  0.050619  0.723473  ... -0.160128 -0.249351 -0.288484   \n",
       "\n",
       "            32        33        34        35        36        37         38  \n",
       "0    -0.119264 -0.240966 -0.212725 -0.269437 -0.136505 -0.147671  -0.085855  \n",
       "1    -0.119264 -0.240966 -0.212725 -0.269437 -0.136505 -0.147671  -0.085855  \n",
       "2    -0.119264 -0.240966 -0.212725 -0.269437 -0.136505 -0.147671  -0.085855  \n",
       "3    -0.119264 -0.240966 -0.212725 -0.269437 -0.136505 -0.147671  -0.085855  \n",
       "4    -0.119264 -0.240966 -0.212725 -0.269437 -0.136505 -0.147671  11.647603  \n",
       "...        ...       ...       ...       ...       ...       ...        ...  \n",
       "1635 -0.119264 -0.240966 -0.212725 -0.269437 -0.136505 -0.147671  -0.085855  \n",
       "1636 -0.119264 -0.240966 -0.212725 -0.269437 -0.136505 -0.147671  -0.085855  \n",
       "1637 -0.119264 -0.240966 -0.212725 -0.269437 -0.136505 -0.147671  -0.085855  \n",
       "1638 -0.119264 -0.240966 -0.212725 -0.269437 -0.136505 -0.147671  -0.085855  \n",
       "1639 -0.119264 -0.240966 -0.212725 -0.269437 -0.136505 -0.147671  -0.085855  \n",
       "\n",
       "[1640 rows x 39 columns]"
      ]
     },
     "execution_count": 40,
     "metadata": {},
     "output_type": "execute_result"
    }
   ],
   "source": [
    "X_train"
   ]
  },
  {
   "cell_type": "code",
   "execution_count": 41,
   "id": "47487921-7e5e-4620-9491-1a827f56d0f7",
   "metadata": {},
   "outputs": [],
   "source": [
    "from sklearn.linear_model import LinearRegression"
   ]
  },
  {
   "cell_type": "code",
   "execution_count": 42,
   "id": "7c574405-cc8e-4e61-8959-4402c9d2a4c8",
   "metadata": {},
   "outputs": [],
   "source": [
    "lasso = Lasso()\n",
    "ridge = Ridge()"
   ]
  },
  {
   "cell_type": "markdown",
   "id": "45f80d27-d774-4a65-aee4-e1634277d7e2",
   "metadata": {},
   "source": [
    "# Ridge"
   ]
  },
  {
   "cell_type": "code",
   "execution_count": 43,
   "id": "01b4e9e5-05a8-41f8-8003-6bc77206280c",
   "metadata": {},
   "outputs": [],
   "source": [
    "ridge_alphas = np.logspace(0,5,100)\n",
    "ridge_cv = RidgeCV(alphas = ridge_alphas, scoring = 'r2', cv=5)\n",
    "ridge_cv.fit(X_train, y_train);"
   ]
  },
  {
   "cell_type": "code",
   "execution_count": 44,
   "id": "6a52e567-6d12-4621-9d44-414a5a060956",
   "metadata": {},
   "outputs": [],
   "source": [
    "ridge_cv;"
   ]
  },
  {
   "cell_type": "code",
   "execution_count": 45,
   "id": "51c614f4-bfae-4fce-b11b-bcc93c653235",
   "metadata": {},
   "outputs": [
    {
     "data": {
      "text/plain": [
       "148.4968262254465"
      ]
     },
     "execution_count": 45,
     "metadata": {},
     "output_type": "execute_result"
    }
   ],
   "source": [
    "ridge_cv.alpha_"
   ]
  },
  {
   "cell_type": "code",
   "execution_count": 46,
   "id": "4bfbe82c-05ca-4343-98aa-e001ef8bfeed",
   "metadata": {},
   "outputs": [],
   "source": [
    "ridge = Ridge()"
   ]
  },
  {
   "cell_type": "code",
   "execution_count": 47,
   "id": "1ef24f0d-c713-4a05-a252-da881941f55a",
   "metadata": {},
   "outputs": [
    {
     "data": {
      "text/plain": [
       "Ridge()"
      ]
     },
     "execution_count": 47,
     "metadata": {},
     "output_type": "execute_result"
    }
   ],
   "source": [
    "ridge.fit(X_train, y_train)"
   ]
  },
  {
   "cell_type": "code",
   "execution_count": 36,
   "id": "4415edce-1244-4ccc-a41a-3ec8be893dac",
   "metadata": {},
   "outputs": [],
   "source": [
    "scores = cross_val_score(ridge, X_train, y_train, cv=5)"
   ]
  },
  {
   "cell_type": "code",
   "execution_count": 37,
   "id": "ccddc512-477b-43b7-b52e-4e1ef20b4e98",
   "metadata": {},
   "outputs": [
    {
     "data": {
      "text/plain": [
       "0.8245907919779585"
      ]
     },
     "execution_count": 37,
     "metadata": {},
     "output_type": "execute_result"
    }
   ],
   "source": [
    "scores.mean()"
   ]
  },
  {
   "cell_type": "code",
   "execution_count": 47,
   "id": "785acf1f-bc44-447d-9711-88fa7729082e",
   "metadata": {},
   "outputs": [],
   "source": [
    "X_test = ss.fit_transform(X_test)"
   ]
  },
  {
   "cell_type": "code",
   "execution_count": 48,
   "id": "438d4197-f5cd-417e-b4c1-3ec81640a562",
   "metadata": {},
   "outputs": [],
   "source": [
    "predicts = ridge.predict(X_test)"
   ]
  },
  {
   "cell_type": "code",
   "execution_count": 49,
   "id": "4acfcd7c-4e60-48f9-ac50-4239e648504c",
   "metadata": {},
   "outputs": [
    {
     "data": {
      "text/plain": [
       "0.8646298260099378"
      ]
     },
     "execution_count": 49,
     "metadata": {},
     "output_type": "execute_result"
    }
   ],
   "source": [
    "r2_score(y_test,predicts)"
   ]
  },
  {
   "cell_type": "code",
   "execution_count": 50,
   "id": "4a932646-816d-4b6a-9dc4-e8f221f85830",
   "metadata": {},
   "outputs": [
    {
     "data": {
      "text/plain": [
       "28360.25363372494"
      ]
     },
     "execution_count": 50,
     "metadata": {},
     "output_type": "execute_result"
    }
   ],
   "source": [
    "mean_squared_error(y_test,predicts,squared=False)"
   ]
  },
  {
   "cell_type": "code",
   "execution_count": 51,
   "id": "ac68c000-85ef-4b4c-8a03-b148ed32f9aa",
   "metadata": {},
   "outputs": [
    {
     "data": {
      "text/plain": [
       "804303986.1692086"
      ]
     },
     "execution_count": 51,
     "metadata": {},
     "output_type": "execute_result"
    }
   ],
   "source": [
    "mean_squared_error(y_test,predicts)"
   ]
  },
  {
   "cell_type": "markdown",
   "id": "00d59cb9-7371-49f4-8733-64cb6ea47ed0",
   "metadata": {
    "tags": []
   },
   "source": [
    "# Lasso"
   ]
  },
  {
   "cell_type": "code",
   "execution_count": 52,
   "id": "b5501982-f1b9-44c1-b067-89203aba618b",
   "metadata": {},
   "outputs": [],
   "source": [
    "lasso_alphas = np.logspace(-3,0,100)\n",
    "lasso_cv = LassoCV(alphas=lasso_alphas,\n",
    "                  cv = 5,\n",
    "                  n_jobs=-1,\n",
    "                  max_iter = 100_000)\n",
    "\n",
    "lasso_cv.fit(X_train, y_train);"
   ]
  },
  {
   "cell_type": "code",
   "execution_count": 53,
   "id": "904a087d-3968-440d-bba8-04d7b7aa3ce1",
   "metadata": {},
   "outputs": [
    {
     "data": {
      "text/plain": [
       "1.0"
      ]
     },
     "execution_count": 53,
     "metadata": {},
     "output_type": "execute_result"
    }
   ],
   "source": [
    "lasso_cv.alpha_"
   ]
  },
  {
   "cell_type": "code",
   "execution_count": 54,
   "id": "217e6c4e-339f-47bb-95dc-895e39aca6ed",
   "metadata": {},
   "outputs": [
    {
     "data": {
      "text/plain": [
       "0.8424391744672053"
      ]
     },
     "execution_count": 54,
     "metadata": {},
     "output_type": "execute_result"
    }
   ],
   "source": [
    "lasso_cv.score(X_train, y_train)"
   ]
  },
  {
   "cell_type": "code",
   "execution_count": 55,
   "id": "1e9ac886-c085-49e9-a040-55f863e2ccde",
   "metadata": {},
   "outputs": [
    {
     "data": {
      "text/plain": [
       "0.8648631163607015"
      ]
     },
     "execution_count": 55,
     "metadata": {},
     "output_type": "execute_result"
    }
   ],
   "source": [
    "lasso_cv.score(X_test, y_test)"
   ]
  },
  {
   "cell_type": "code",
   "execution_count": 56,
   "id": "7e8ecd61-1002-4ad9-83fc-5e7efced59cf",
   "metadata": {},
   "outputs": [
    {
     "data": {
      "text/plain": [
       "0.8648631163607015"
      ]
     },
     "execution_count": 56,
     "metadata": {},
     "output_type": "execute_result"
    }
   ],
   "source": [
    "predicts = lasso_cv.predict(X_test)\n",
    "r2_score(y_test,predicts)"
   ]
  },
  {
   "cell_type": "code",
   "execution_count": 57,
   "id": "683d0ac8-af0c-4a29-9ff2-e9a9c2073611",
   "metadata": {},
   "outputs": [
    {
     "data": {
      "text/plain": [
       "28335.8057576554"
      ]
     },
     "execution_count": 57,
     "metadata": {},
     "output_type": "execute_result"
    }
   ],
   "source": [
    "mean_squared_error(y_test,predicts,squared=False)"
   ]
  },
  {
   "cell_type": "markdown",
   "id": "eae45b73-737d-4258-aab4-416f5d6155fd",
   "metadata": {},
   "source": [
    "# Conclusion"
   ]
  },
  {
   "cell_type": "code",
   "execution_count": 25,
   "id": "bf323605-8d64-444a-af3c-1761d3a30cd2",
   "metadata": {},
   "outputs": [
    {
     "data": {
      "text/plain": [
       "[(0, 14909.164995928902),\n",
       " (1, 2420.2324098655063),\n",
       " (2, 2887.6419301205224),\n",
       " (3, 4286.233403739601),\n",
       " (4, 6191.903737141519),\n",
       " (5, 6238.578967707001),\n",
       " (6, 1558.2243236014208),\n",
       " (7, 5551.367094958319),\n",
       " (8, 18833.784471085335),\n",
       " (9, 7251.374926900733),\n",
       " (10, 12893.671014968315),\n",
       " (11, -2130.6878108053047),\n",
       " (12, -1502.6285782915731),\n",
       " (13, -2931.025488483259),\n",
       " (14, -261.17707535609435),\n",
       " (15, 2341.1077010155145),\n",
       " (16, -1510.2127293316207),\n",
       " (17, 4187.016679940612),\n",
       " (18, -3440.872420099574),\n",
       " (19, -759.9379993411811),\n",
       " (20, -869.5595347662908),\n",
       " (21, 3412.846479628183),\n",
       " (22, -2639.8007847223066),\n",
       " (23, -541.5625789916048),\n",
       " (24, -1747.6452744219891),\n",
       " (25, -560.1819968359973),\n",
       " (26, -238.73913906779495),\n",
       " (27, -1722.4460681509715),\n",
       " (28, -911.4837065035784),\n",
       " (29, 4949.312595757364),\n",
       " (30, 8769.60137220074),\n",
       " (31, -3964.369710940551),\n",
       " (32, -950.4346380827681),\n",
       " (33, -89.48228783320556),\n",
       " (34, -2537.187990764177),\n",
       " (35, -1310.7443273049707),\n",
       " (36, 7710.188112812017),\n",
       " (37, 2128.149516486563),\n",
       " (38, 1347.5738385886855)]"
      ]
     },
     "execution_count": 25,
     "metadata": {},
     "output_type": "execute_result"
    }
   ],
   "source": [
    "list(zip(X_train.columns,ridge.coef_))"
   ]
  },
  {
   "cell_type": "code",
   "execution_count": null,
   "id": "282acf56-e936-4967-9a75-ed9d20133397",
   "metadata": {},
   "outputs": [],
   "source": []
  }
 ],
 "metadata": {
  "kernelspec": {
   "display_name": "Python 3",
   "language": "python",
   "name": "python3"
  },
  "language_info": {
   "codemirror_mode": {
    "name": "ipython",
    "version": 3
   },
   "file_extension": ".py",
   "mimetype": "text/x-python",
   "name": "python",
   "nbconvert_exporter": "python",
   "pygments_lexer": "ipython3",
   "version": "3.8.8"
  }
 },
 "nbformat": 4,
 "nbformat_minor": 5
}
