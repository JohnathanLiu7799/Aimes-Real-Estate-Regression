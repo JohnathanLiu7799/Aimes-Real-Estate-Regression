{
 "cells": [
  {
   "cell_type": "markdown",
   "id": "b235ce23-3f86-4f8e-9ba7-da797fc9c849",
   "metadata": {
    "tags": []
   },
   "source": [
    "# Import Libraries and Data"
   ]
  },
  {
   "cell_type": "code",
   "execution_count": 26,
   "id": "4f308180-363d-4c5a-9fc4-d3612f729837",
   "metadata": {},
   "outputs": [],
   "source": [
    "import helper"
   ]
  },
  {
   "cell_type": "code",
   "execution_count": 27,
   "id": "4cbbe912-d4a9-48c3-ba3f-12e7a69c4b60",
   "metadata": {},
   "outputs": [],
   "source": [
    "import pandas as pd\n",
    "import numpy as np\n",
    "import matplotlib.pyplot as plt\n",
    "import seaborn as sns"
   ]
  },
  {
   "cell_type": "code",
   "execution_count": 28,
   "id": "8bfbde7f-692a-403d-9d1d-71c89a1948ef",
   "metadata": {},
   "outputs": [],
   "source": [
    "real_estate = pd.read_csv('../datasets/processed_train.csv')"
   ]
  },
  {
   "cell_type": "code",
   "execution_count": 29,
   "id": "9252adb2-e8bc-4c35-b6c0-02cadcde104f",
   "metadata": {},
   "outputs": [],
   "source": [
    "def simple_interaction_feature(df, list_of_old_features):\n",
    "    new_feature_val = 1\n",
    "    for feature in list_of_old_features:\n",
    "        new_feature_val = new_feature_val * df[feature]\n",
    "    return new_feature_val"
   ]
  },
  {
   "cell_type": "markdown",
   "id": "2c1100ef-d46c-4423-bd8f-18a4b890a7d9",
   "metadata": {
    "tags": []
   },
   "source": [
    "# Engineering Features\n",
    "\n",
    "pool_score\n",
    "garage_score\n",
    "fireplace_score\n",
    "basement_score\n",
    "kitchen_score\n",
    "overall_score"
   ]
  },
  {
   "cell_type": "markdown",
   "id": "223c97ea-30dd-45a8-9438-99789fa69746",
   "metadata": {},
   "source": [
    "Pool = Pool Area * Pool QC\n",
    "Garage = Garage Area * Garage Qual * Garage Cars * Garage Cond\n",
    "Fireplace = Fireplaces * FireplacesQu\n",
    "Basement = Total Bsmt SF * Bsmt Qual * Bsmt Cond\n",
    "Kitchen = Kitchen * Kitchen Qual\n",
    "Overall = Overall Qual * Overall Cond"
   ]
  },
  {
   "cell_type": "markdown",
   "id": "131696db-27df-4585-960b-49418bd4a284",
   "metadata": {
    "tags": []
   },
   "source": [
    "## Pool"
   ]
  },
  {
   "cell_type": "code",
   "execution_count": 30,
   "id": "867f4010-2ed4-43d6-935d-c1e4b1c0188b",
   "metadata": {},
   "outputs": [],
   "source": [
    "real_estate['pool_score'] = simple_interaction_feature(real_estate, ['pool_area','pool_qc'])"
   ]
  },
  {
   "cell_type": "code",
   "execution_count": 31,
   "id": "7f71f3b2-73f4-46a0-97f7-7bb1575b13dd",
   "metadata": {},
   "outputs": [
    {
     "data": {
      "text/plain": [
       "0       2042\n",
       "1038       1\n",
       "1104       1\n",
       "1140       1\n",
       "1296       1\n",
       "1920       1\n",
       "2304       1\n",
       "2952       1\n",
       "3200       1\n",
       "1683       1\n",
       "Name: pool_score, dtype: int64"
      ]
     },
     "execution_count": 31,
     "metadata": {},
     "output_type": "execute_result"
    }
   ],
   "source": [
    "real_estate['pool_score'].value_counts()"
   ]
  },
  {
   "cell_type": "markdown",
   "id": "472b2a56-02de-4848-b05f-491449bd1218",
   "metadata": {
    "tags": []
   },
   "source": [
    "## Garage"
   ]
  },
  {
   "cell_type": "code",
   "execution_count": 32,
   "id": "7fcb0f81-9d02-4cb6-a8b7-8e2b05c81036",
   "metadata": {},
   "outputs": [],
   "source": [
    "real_estate['garage_score'] = simple_interaction_feature(real_estate, ['garage_area','garage_qual','garage_cars','garage_cond'])"
   ]
  },
  {
   "cell_type": "code",
   "execution_count": 33,
   "id": "a99bcc84-8698-487a-8930-02aea4fa4f39",
   "metadata": {},
   "outputs": [
    {
     "data": {
      "text/plain": [
       "0.0        114\n",
       "7920.0      68\n",
       "10368.0     68\n",
       "8712.0      51\n",
       "9504.0      43\n",
       "          ... \n",
       "8226.0       1\n",
       "12348.0      1\n",
       "2925.0       1\n",
       "22032.0      1\n",
       "10872.0      1\n",
       "Name: garage_score, Length: 641, dtype: int64"
      ]
     },
     "execution_count": 33,
     "metadata": {},
     "output_type": "execute_result"
    }
   ],
   "source": [
    "real_estate['garage_score'].value_counts()"
   ]
  },
  {
   "cell_type": "markdown",
   "id": "735a8732-1379-47ba-a767-c8f9e68cbeb6",
   "metadata": {
    "tags": []
   },
   "source": [
    "## Fireplace"
   ]
  },
  {
   "cell_type": "code",
   "execution_count": 34,
   "id": "6bbbf8ff-101e-4609-876a-d3ac8aa5328d",
   "metadata": {},
   "outputs": [],
   "source": [
    "real_estate['fireplace_score'] = simple_interaction_feature(real_estate, ['fireplaces','fireplace_qu'])"
   ]
  },
  {
   "cell_type": "code",
   "execution_count": 35,
   "id": "f97d04f8-074d-4254-b0d5-576e04942e1a",
   "metadata": {},
   "outputs": [
    {
     "data": {
      "text/plain": [
       "0     1000\n",
       "4      456\n",
       "3      342\n",
       "8       74\n",
       "6       62\n",
       "2       49\n",
       "1       31\n",
       "5       29\n",
       "12       3\n",
       "9        3\n",
       "10       2\n",
       "Name: fireplace_score, dtype: int64"
      ]
     },
     "execution_count": 35,
     "metadata": {},
     "output_type": "execute_result"
    }
   ],
   "source": [
    "real_estate['fireplace_score'].value_counts()"
   ]
  },
  {
   "cell_type": "markdown",
   "id": "25281f6d-9eed-4744-b189-8b948253de9e",
   "metadata": {
    "tags": []
   },
   "source": [
    "## Basement"
   ]
  },
  {
   "cell_type": "code",
   "execution_count": 36,
   "id": "8b3eac0b-73d0-4469-8cee-23a122136f57",
   "metadata": {},
   "outputs": [],
   "source": [
    "real_estate['basement_score'] = simple_interaction_feature(real_estate, ['total_bsmt_sf','bsmt_qual','bsmt_cond'])"
   ]
  },
  {
   "cell_type": "code",
   "execution_count": 37,
   "id": "5afaaf9d-d8bb-443a-8315-79e5c5dc054f",
   "metadata": {},
   "outputs": [
    {
     "data": {
      "text/plain": [
       "0.0        55\n",
       "7776.0     44\n",
       "9072.0     20\n",
       "8208.0     17\n",
       "6048.0     16\n",
       "           ..\n",
       "4200.0      1\n",
       "10632.0     1\n",
       "7533.0      1\n",
       "3180.0      1\n",
       "9243.0      1\n",
       "Name: basement_score, Length: 1156, dtype: int64"
      ]
     },
     "execution_count": 37,
     "metadata": {},
     "output_type": "execute_result"
    }
   ],
   "source": [
    "real_estate['basement_score'].value_counts()"
   ]
  },
  {
   "cell_type": "markdown",
   "id": "c328faff-154f-4d01-afda-049a5a579c0e",
   "metadata": {
    "tags": []
   },
   "source": [
    "## Kitchen"
   ]
  },
  {
   "cell_type": "code",
   "execution_count": 38,
   "id": "553a1bbe-d63f-43ec-9351-efa7224b1730",
   "metadata": {},
   "outputs": [],
   "source": [
    "real_estate['kitchen_score'] = simple_interaction_feature(real_estate, ['kitchen_abvgr','kitchen_qual'])"
   ]
  },
  {
   "cell_type": "code",
   "execution_count": 39,
   "id": "5b2ff8fe-3641-4f8b-837b-d9d67dd3864d",
   "metadata": {},
   "outputs": [
    {
     "data": {
      "text/plain": [
       "3    965\n",
       "4    809\n",
       "5    151\n",
       "6     79\n",
       "2     41\n",
       "8      3\n",
       "0      2\n",
       "9      1\n",
       "Name: kitchen_score, dtype: int64"
      ]
     },
     "execution_count": 39,
     "metadata": {},
     "output_type": "execute_result"
    }
   ],
   "source": [
    "real_estate['kitchen_score'].value_counts()"
   ]
  },
  {
   "cell_type": "markdown",
   "id": "0158bb95-e01a-45af-a63c-976f6bf0a37a",
   "metadata": {
    "tags": []
   },
   "source": [
    "## Overall"
   ]
  },
  {
   "cell_type": "code",
   "execution_count": 40,
   "id": "887437f3-5240-4876-89e2-8879886c73f0",
   "metadata": {},
   "outputs": [],
   "source": [
    "real_estate['overall_score'] = simple_interaction_feature(real_estate, ['overall_qual','overall_cond'])"
   ]
  },
  {
   "cell_type": "code",
   "execution_count": 41,
   "id": "c902dcfe-a58e-42ce-b825-1ddd999746c2",
   "metadata": {},
   "outputs": [
    {
     "data": {
      "text/plain": [
       "35    440\n",
       "30    399\n",
       "40    265\n",
       "25    212\n",
       "42    125\n",
       "36    124\n",
       "45     81\n",
       "20     75\n",
       "48     48\n",
       "24     46\n",
       "49     34\n",
       "28     31\n",
       "16     27\n",
       "56     24\n",
       "50     21\n",
       "15     21\n",
       "12     12\n",
       "63     11\n",
       "18      8\n",
       "9       6\n",
       "54      5\n",
       "32      5\n",
       "72      4\n",
       "6       4\n",
       "8       4\n",
       "3       3\n",
       "10      3\n",
       "4       3\n",
       "90      2\n",
       "5       2\n",
       "64      2\n",
       "21      2\n",
       "1       1\n",
       "27      1\n",
       "Name: overall_score, dtype: int64"
      ]
     },
     "execution_count": 41,
     "metadata": {},
     "output_type": "execute_result"
    }
   ],
   "source": [
    "real_estate['overall_score'].value_counts()"
   ]
  },
  {
   "cell_type": "markdown",
   "id": "c311e00e-ab63-455c-a6c9-daa0e1385478",
   "metadata": {
    "tags": []
   },
   "source": [
    "# Modeling"
   ]
  },
  {
   "cell_type": "code",
   "execution_count": 42,
   "id": "2027fdb6-3f63-4ffb-9140-23b228e603bd",
   "metadata": {},
   "outputs": [],
   "source": [
    "from sklearn.linear_model import LinearRegression"
   ]
  },
  {
   "cell_type": "code",
   "execution_count": 43,
   "id": "fdbbdb62-8910-4126-843d-6cc72ed75198",
   "metadata": {},
   "outputs": [],
   "source": [
    "linreg = LinearRegression()"
   ]
  },
  {
   "cell_type": "code",
   "execution_count": 44,
   "id": "56d519bb-fbdc-4e96-844a-d5d5275f8a57",
   "metadata": {},
   "outputs": [],
   "source": [
    "features = ['pool_score','garage_score','fireplace_score','basement_score','kitchen_score','overall_score']"
   ]
  },
  {
   "cell_type": "code",
   "execution_count": 45,
   "id": "037397a3-fe57-4e2d-8dd2-90e1e7a56572",
   "metadata": {},
   "outputs": [],
   "source": [
    "X = real_estate[features]"
   ]
  },
  {
   "cell_type": "code",
   "execution_count": 46,
   "id": "a9541348-56c0-4c2f-8aaf-7e3ea0fa861d",
   "metadata": {},
   "outputs": [],
   "source": [
    "y = real_estate[['saleprice']]"
   ]
  },
  {
   "cell_type": "code",
   "execution_count": 47,
   "id": "fd9cd3f8-6c89-4a05-97c1-b961a1dc454e",
   "metadata": {},
   "outputs": [
    {
     "data": {
      "text/plain": [
       "LinearRegression()"
      ]
     },
     "execution_count": 47,
     "metadata": {},
     "output_type": "execute_result"
    }
   ],
   "source": [
    "linreg.fit(X,y)"
   ]
  },
  {
   "cell_type": "markdown",
   "id": "db4cf45e-7f37-44c7-96eb-4bbe4601e066",
   "metadata": {
    "tags": []
   },
   "source": [
    "# Scoring"
   ]
  },
  {
   "cell_type": "code",
   "execution_count": 48,
   "id": "4fe63b15-b0e6-4e5a-a6b9-5d99172d7bca",
   "metadata": {},
   "outputs": [],
   "source": [
    "from sklearn.model_selection import cross_val_score\n",
    "from sklearn.metrics import r2_score\n",
    "from sklearn.metrics import mean_absolute_error, mean_squared_error"
   ]
  },
  {
   "cell_type": "code",
   "execution_count": 49,
   "id": "fbc8d8d2-a013-4cc8-8525-cc61229ec23a",
   "metadata": {},
   "outputs": [],
   "source": [
    "scores = cross_val_score(linreg, X, y, cv=5)"
   ]
  },
  {
   "cell_type": "code",
   "execution_count": 50,
   "id": "f4ee9943-990c-42f4-ae60-cbe9e7b212ec",
   "metadata": {},
   "outputs": [
    {
     "data": {
      "text/plain": [
       "0.7449649168471161"
      ]
     },
     "execution_count": 50,
     "metadata": {},
     "output_type": "execute_result"
    }
   ],
   "source": [
    "scores.mean()"
   ]
  },
  {
   "cell_type": "code",
   "execution_count": 51,
   "id": "8625bf0d-e47f-4871-94db-be0ae139d5b3",
   "metadata": {},
   "outputs": [],
   "source": [
    "predicts = linreg.predict(X)"
   ]
  },
  {
   "cell_type": "code",
   "execution_count": 52,
   "id": "40887cd3-3235-4f57-8154-ca4ab7e57833",
   "metadata": {},
   "outputs": [
    {
     "data": {
      "text/plain": [
       "0.7564316965542196"
      ]
     },
     "execution_count": 52,
     "metadata": {},
     "output_type": "execute_result"
    }
   ],
   "source": [
    "r2_score(real_estate['saleprice'],predicts)"
   ]
  },
  {
   "cell_type": "code",
   "execution_count": 56,
   "id": "291879d0-a84b-4349-8da9-8bfa6b54f5e7",
   "metadata": {},
   "outputs": [
    {
     "data": {
      "text/plain": [
       "39106.70343626019"
      ]
     },
     "execution_count": 56,
     "metadata": {},
     "output_type": "execute_result"
    }
   ],
   "source": [
    "mean_squared_error(real_estate['saleprice'],predicts,squared=False)"
   ]
  },
  {
   "cell_type": "code",
   "execution_count": 54,
   "id": "bce58676-4713-4fcf-b088-809bfb9f1f90",
   "metadata": {},
   "outputs": [
    {
     "data": {
      "text/plain": [
       "1529334253.6516044"
      ]
     },
     "execution_count": 54,
     "metadata": {},
     "output_type": "execute_result"
    }
   ],
   "source": [
    "mean_squared_error(real_estate['saleprice'],predicts)"
   ]
  },
  {
   "cell_type": "markdown",
   "id": "b5eba6ce-3658-428d-bb45-b43f90e897a7",
   "metadata": {
    "tags": [],
    "toc-hr-collapsed": true
   },
   "source": [
    "# To Submission"
   ]
  },
  {
   "cell_type": "code",
   "execution_count": 28,
   "id": "446f597e-b04d-4563-bd8e-73e9912a8930",
   "metadata": {},
   "outputs": [],
   "source": [
    "test = pd.read_csv('../datasets/test.csv')"
   ]
  },
  {
   "cell_type": "code",
   "execution_count": 29,
   "id": "a6002152-56c4-415c-ab05-0a739ae96f9d",
   "metadata": {},
   "outputs": [],
   "source": [
    "test.columns = (test.columns.str.lower()).str.replace(' ','_')"
   ]
  },
  {
   "cell_type": "markdown",
   "id": "85d4890c-d3e9-40c5-9b68-4d50abd0d87e",
   "metadata": {
    "tags": []
   },
   "source": [
    "## Feature Engineering"
   ]
  },
  {
   "cell_type": "code",
   "execution_count": 30,
   "id": "c4820542-a7bc-45d2-87d2-cfcb639d2f9d",
   "metadata": {},
   "outputs": [],
   "source": [
    "ordinals = ['exter_qual','exter_cond','bsmt_qual','bsmt_cond','heating_qc',\n",
    "            'kitchen_qual','fireplace_qu','garage_qual','garage_cond','pool_qc']"
   ]
  },
  {
   "cell_type": "code",
   "execution_count": 31,
   "id": "b5d89dc8-0897-4f3e-9977-4ee53649d8b2",
   "metadata": {},
   "outputs": [],
   "source": [
    "helper.mass_ordinal_to_numerical(test, ordinals)"
   ]
  },
  {
   "cell_type": "markdown",
   "id": "7b4e30ab-a79d-4d62-ac4c-d1801fbabfd1",
   "metadata": {
    "tags": [],
    "toc-hr-collapsed": true
   },
   "source": [
    "### Pool"
   ]
  },
  {
   "cell_type": "code",
   "execution_count": 32,
   "id": "d53d343c-e85b-4d05-8158-ba35b01524f5",
   "metadata": {},
   "outputs": [],
   "source": [
    "test['pool_score'] = simple_interaction_feature(test, ['pool_area','pool_qc'])"
   ]
  },
  {
   "cell_type": "code",
   "execution_count": 33,
   "id": "614c6379-89de-4d5a-99c6-93ee1a63b4e6",
   "metadata": {},
   "outputs": [
    {
     "data": {
      "text/plain": [
       "0.0       874\n",
       "2560.0      1\n",
       "2775.0      1\n",
       "1332.0      1\n",
       "720.0       1\n",
       "Name: pool_score, dtype: int64"
      ]
     },
     "execution_count": 33,
     "metadata": {},
     "output_type": "execute_result"
    }
   ],
   "source": [
    "test['pool_score'].value_counts()"
   ]
  },
  {
   "cell_type": "markdown",
   "id": "52629c8c-5a09-40ef-8ba6-dd1cbff52e05",
   "metadata": {
    "tags": [],
    "toc-hr-collapsed": true
   },
   "source": [
    "### Garage"
   ]
  },
  {
   "cell_type": "code",
   "execution_count": 34,
   "id": "468d9c4d-fdcb-4d28-9aab-6f60ddcba98e",
   "metadata": {},
   "outputs": [],
   "source": [
    "test['garage_score'] = simple_interaction_feature(test, ['garage_area','garage_qual','garage_cars','garage_cond'])"
   ]
  },
  {
   "cell_type": "code",
   "execution_count": 35,
   "id": "e196d96e-a32d-416b-bcc5-051d1e2fb096",
   "metadata": {},
   "outputs": [
    {
     "data": {
      "text/plain": [
       "0.0        45\n",
       "10368.0    26\n",
       "7920.0     24\n",
       "8712.0     23\n",
       "2160.0     20\n",
       "           ..\n",
       "1600.0      1\n",
       "516.0       1\n",
       "14310.0     1\n",
       "16464.0     1\n",
       "8190.0      1\n",
       "Name: garage_score, Length: 428, dtype: int64"
      ]
     },
     "execution_count": 35,
     "metadata": {},
     "output_type": "execute_result"
    }
   ],
   "source": [
    "test['garage_score'].value_counts()"
   ]
  },
  {
   "cell_type": "markdown",
   "id": "6e980391-60ec-4ab8-8620-7c9e95747076",
   "metadata": {
    "tags": [],
    "toc-hr-collapsed": true
   },
   "source": [
    "### Fireplace"
   ]
  },
  {
   "cell_type": "code",
   "execution_count": 36,
   "id": "1ea8b77f-8e2a-48d1-ae54-302759502646",
   "metadata": {},
   "outputs": [],
   "source": [
    "test['fireplace_score'] = simple_interaction_feature(test, ['fireplaces','fireplace_qu'])"
   ]
  },
  {
   "cell_type": "code",
   "execution_count": 37,
   "id": "fcbdc313-b064-41c9-8aa0-c68c9e3313a9",
   "metadata": {},
   "outputs": [
    {
     "data": {
      "text/plain": [
       "0.0     422\n",
       "4.0     180\n",
       "3.0     158\n",
       "8.0      38\n",
       "6.0      33\n",
       "2.0      15\n",
       "1.0      15\n",
       "5.0       8\n",
       "10.0      3\n",
       "12.0      3\n",
       "9.0       2\n",
       "15.0      1\n",
       "Name: fireplace_score, dtype: int64"
      ]
     },
     "execution_count": 37,
     "metadata": {},
     "output_type": "execute_result"
    }
   ],
   "source": [
    "test['fireplace_score'].value_counts()"
   ]
  },
  {
   "cell_type": "markdown",
   "id": "bc4a527a-81b3-4e62-a254-7b88817c0ddf",
   "metadata": {
    "tags": [],
    "toc-hr-collapsed": true
   },
   "source": [
    "### Basement"
   ]
  },
  {
   "cell_type": "code",
   "execution_count": 38,
   "id": "06e9fc0f-b93b-4efe-8e91-5b08fad184c9",
   "metadata": {},
   "outputs": [],
   "source": [
    "test['basement_score'] = simple_interaction_feature(test, ['total_bsmt_sf','bsmt_qual','bsmt_cond'])"
   ]
  },
  {
   "cell_type": "code",
   "execution_count": 39,
   "id": "d829e3ca-8f3a-4097-9068-44de2c27bb0f",
   "metadata": {},
   "outputs": [
    {
     "data": {
      "text/plain": [
       "0.0        25\n",
       "7776.0     18\n",
       "6912.0      9\n",
       "7020.0      8\n",
       "9072.0      8\n",
       "           ..\n",
       "10980.0     1\n",
       "9558.0      1\n",
       "8541.0      1\n",
       "13800.0     1\n",
       "10272.0     1\n",
       "Name: basement_score, Length: 610, dtype: int64"
      ]
     },
     "execution_count": 39,
     "metadata": {},
     "output_type": "execute_result"
    }
   ],
   "source": [
    "test['basement_score'].value_counts()"
   ]
  },
  {
   "cell_type": "markdown",
   "id": "30e9354e-f360-42b2-ad9d-ca5ae482ad83",
   "metadata": {
    "tags": [],
    "toc-hr-collapsed": true
   },
   "source": [
    "### Kitchen"
   ]
  },
  {
   "cell_type": "code",
   "execution_count": 40,
   "id": "167f1f81-9fab-4a5d-be03-f060ca85ca43",
   "metadata": {},
   "outputs": [],
   "source": [
    "test['kitchen_score'] = simple_interaction_feature(test, ['kitchen_abvgr','kitchen_qual'])"
   ]
  },
  {
   "cell_type": "code",
   "execution_count": 41,
   "id": "00185077-ee02-4c61-b4fe-98055de473d6",
   "metadata": {},
   "outputs": [
    {
     "data": {
      "text/plain": [
       "3    409\n",
       "4    355\n",
       "5     53\n",
       "6     36\n",
       "2     20\n",
       "8      2\n",
       "0      1\n",
       "1      1\n",
       "9      1\n",
       "Name: kitchen_score, dtype: int64"
      ]
     },
     "execution_count": 41,
     "metadata": {},
     "output_type": "execute_result"
    }
   ],
   "source": [
    "test['kitchen_score'].value_counts()"
   ]
  },
  {
   "cell_type": "markdown",
   "id": "97a4acbb-ae13-4ccd-8fce-fd49ad7d78bd",
   "metadata": {
    "tags": [],
    "toc-hr-collapsed": true
   },
   "source": [
    "### Overall"
   ]
  },
  {
   "cell_type": "code",
   "execution_count": 47,
   "id": "bccc1583-b5e3-47e2-a680-a05a953d5983",
   "metadata": {},
   "outputs": [],
   "source": [
    "test['overall_score'] = simple_interaction_feature(test, ['overall_qual','overall_cond'])"
   ]
  },
  {
   "cell_type": "code",
   "execution_count": 48,
   "id": "9ae8dd46-5d03-47e7-a842-8ed34012a7ef",
   "metadata": {},
   "outputs": [
    {
     "data": {
      "text/plain": [
       "35    194\n",
       "30    178\n",
       "40    105\n",
       "25     88\n",
       "42     57\n",
       "36     52\n",
       "20     44\n",
       "45     33\n",
       "48     23\n",
       "24     21\n",
       "28     15\n",
       "12      9\n",
       "49      9\n",
       "18      7\n",
       "15      6\n",
       "50      6\n",
       "56      5\n",
       "72      5\n",
       "16      4\n",
       "10      4\n",
       "63      2\n",
       "32      2\n",
       "9       2\n",
       "4       1\n",
       "54      1\n",
       "6       1\n",
       "60      1\n",
       "5       1\n",
       "64      1\n",
       "2       1\n",
       "Name: overall_score, dtype: int64"
      ]
     },
     "execution_count": 48,
     "metadata": {},
     "output_type": "execute_result"
    }
   ],
   "source": [
    "test['overall_score'].value_counts()"
   ]
  },
  {
   "cell_type": "markdown",
   "id": "d7669f35-6fb4-489b-9242-432bfc7ffbcf",
   "metadata": {
    "tags": [],
    "toc-hr-collapsed": true
   },
   "source": [
    "## Predict"
   ]
  },
  {
   "cell_type": "code",
   "execution_count": 50,
   "id": "b0edb3ef-3abc-41b9-80d9-9f485586e654",
   "metadata": {},
   "outputs": [],
   "source": [
    "test['SalePrice'] = linreg.predict(test[features])"
   ]
  },
  {
   "cell_type": "code",
   "execution_count": 53,
   "id": "87182863-6503-4f3e-b80f-b3bf648b9861",
   "metadata": {},
   "outputs": [],
   "source": [
    "submission = test[['id','SalePrice']]"
   ]
  },
  {
   "cell_type": "code",
   "execution_count": 54,
   "id": "49629a5e-0e1e-4181-aa71-6ea657cb1067",
   "metadata": {},
   "outputs": [],
   "source": [
    "submission.columns = ['Id','SalePrice']"
   ]
  },
  {
   "cell_type": "code",
   "execution_count": 57,
   "id": "8a53a524-40f6-434d-902b-aa8d438d29ce",
   "metadata": {},
   "outputs": [],
   "source": [
    "submission.to_csv('../submissions/iter2.csv',index=False)"
   ]
  }
 ],
 "metadata": {
  "kernelspec": {
   "display_name": "Python 3",
   "language": "python",
   "name": "python3"
  },
  "language_info": {
   "codemirror_mode": {
    "name": "ipython",
    "version": 3
   },
   "file_extension": ".py",
   "mimetype": "text/x-python",
   "name": "python",
   "nbconvert_exporter": "python",
   "pygments_lexer": "ipython3",
   "version": "3.8.8"
  }
 },
 "nbformat": 4,
 "nbformat_minor": 5
}
